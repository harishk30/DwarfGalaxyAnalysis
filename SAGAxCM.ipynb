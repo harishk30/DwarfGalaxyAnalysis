{
  "nbformat": 4,
  "nbformat_minor": 0,
  "metadata": {
    "colab": {
      "provenance": [],
      "mount_file_id": "1Ftw0kRBLc1AnHFSxb5VZWEXIWr2PjcQk",
      "authorship_tag": "ABX9TyMwCdhWeK1fNEZXT+eA4qit",
      "include_colab_link": true
    },
    "kernelspec": {
      "name": "python3",
      "display_name": "Python 3"
    },
    "language_info": {
      "name": "python"
    }
  },
  "cells": [
    {
      "cell_type": "markdown",
      "metadata": {
        "id": "view-in-github",
        "colab_type": "text"
      },
      "source": [
        "<a href=\"https://colab.research.google.com/github/harishk30/DwarfResearch/blob/main/SAGAxCM.ipynb\" target=\"_parent\"><img src=\"https://colab.research.google.com/assets/colab-badge.svg\" alt=\"Open In Colab\"/></a>"
      ]
    },
    {
      "cell_type": "code",
      "source": [
        "pip install colossus"
      ],
      "metadata": {
        "colab": {
          "base_uri": "https://localhost:8080/"
        },
        "id": "K7cyVUToVwb9",
        "outputId": "e609f0c3-d7b5-4d12-bb75-327d3495eb8d"
      },
      "execution_count": null,
      "outputs": [
        {
          "output_type": "stream",
          "name": "stdout",
          "text": [
            "Collecting colossus\n",
            "  Downloading colossus-1.3.5-py2.py3-none-any.whl (198 kB)\n",
            "\u001b[2K     \u001b[90m━━━━━━━━━━━━━━━━━━━━━━━━━━━━━━━━━━━━━━━━\u001b[0m \u001b[32m198.8/198.8 kB\u001b[0m \u001b[31m1.5 MB/s\u001b[0m eta \u001b[36m0:00:00\u001b[0m\n",
            "\u001b[?25h"
          ]
        }
      ]
    },
    {
      "cell_type": "code",
      "source": [
        "from colossus.halo import mass_so\n",
        "from colossus.halo import mass_defs\n",
        "from colossus.halo.concentration import concentration\n",
        "from colossus.halo import profile_nfw\n",
        "from colossus.halo import mass_adv\n",
        "from colossus.cosmology import cosmology"
      ],
      "metadata": {
        "id": "fkklaW2mWFAO"
      },
      "execution_count": null,
      "outputs": []
    },
    {
      "cell_type": "code",
      "execution_count": null,
      "metadata": {
        "id": "VOQ9Z1x-6I8l"
      },
      "outputs": [],
      "source": [
        "import pandas as pd\n",
        "import astropy.coordinates\n",
        "from astropy.coordinates import SkyCoord\n",
        "import numpy as np\n",
        "from astropy import units as u\n",
        "from astropy.cosmology import Planck15 as cosmo"
      ]
    },
    {
      "cell_type": "code",
      "source": [
        "from tqdm import tqdm"
      ],
      "metadata": {
        "id": "p59ru86X4iwH"
      },
      "execution_count": null,
      "outputs": []
    },
    {
      "cell_type": "code",
      "source": [
        "cosmology.setCosmology('planck15')"
      ],
      "metadata": {
        "colab": {
          "base_uri": "https://localhost:8080/"
        },
        "id": "kB6NYDYlXu53",
        "outputId": "969ff1dc-1826-4ba5-b566-693bb1fcab8b"
      },
      "execution_count": null,
      "outputs": [
        {
          "output_type": "execute_result",
          "data": {
            "text/plain": [
              "<colossus.cosmology.cosmology.Cosmology at 0x79f949ad7820>"
            ]
          },
          "metadata": {},
          "execution_count": 6
        }
      ]
    },
    {
      "cell_type": "code",
      "source": [
        "saga_hosts = '/content/drive/MyDrive/SummerProject/xSAGA-hosts_2021-09-28.parquet'\n",
        "hosts = pd.read_parquet(saga_hosts, engine = 'auto')\n",
        "satellites = pd.read_csv('/content/drive/MyDrive/SummerProject/xSAGA-lowz_2021-08-30.csv')"
      ],
      "metadata": {
        "id": "2grVFF9i6RUd"
      },
      "execution_count": null,
      "outputs": []
    },
    {
      "cell_type": "code",
      "source": [
        "hosts = hosts.sort_values('mass_NSA', ascending = False)"
      ],
      "metadata": {
        "id": "VON--VXHd9VD"
      },
      "execution_count": null,
      "outputs": []
    },
    {
      "cell_type": "code",
      "source": [
        "#hosts = hosts[hosts['mass_GSE'] < 11]\n",
        "satellite_coords = SkyCoord(satellites['ra'], satellites['dec'], unit = 'deg')\n",
        "host_coords = SkyCoord(hosts['ra_NSA'], hosts['dec_NSA'], unit = 'deg')"
      ],
      "metadata": {
        "id": "iiyo0tbu77Nw"
      },
      "execution_count": null,
      "outputs": []
    },
    {
      "cell_type": "code",
      "source": [
        "host_coords"
      ],
      "metadata": {
        "colab": {
          "base_uri": "https://localhost:8080/"
        },
        "id": "SDsa-d5NeJoM",
        "outputId": "5acce12b-cfea-4da4-ebf3-05096a60f6d9"
      },
      "execution_count": null,
      "outputs": [
        {
          "output_type": "execute_result",
          "data": {
            "text/plain": [
              "<SkyCoord (ICRS): (ra, dec) in deg\n",
              "    [(157.16630741, 14.33506305), (247.43729829, 40.811602  ),\n",
              "     (181.66246902, 28.17453522), ..., (214.9766162 , 51.89505011),\n",
              "     (173.53809004, -1.59561628), (208.34098059, 20.94890988)]>"
            ]
          },
          "metadata": {},
          "execution_count": 10
        }
      ]
    },
    {
      "cell_type": "code",
      "source": [
        "UniverseMachine_params = {\n",
        "    \"alpha\": 1.957,\n",
        "    \"beta\": 0.474,\n",
        "    \"gamma\": -1.065,\n",
        "    \"delta\": 0.386,\n",
        "    \"epsilon\": -1.435,\n",
        "    \"M0\": 12.081,\n",
        "}\n",
        "\n",
        "def SHMR(M_halo, params):\n",
        "    \"\"\"Stellar Mass Halo Mass Relation from Behroozi+19. See Appendix J.\"\"\"\n",
        "\n",
        "    x = M_halo - params[\"M0\"]\n",
        "\n",
        "    return (\n",
        "        params[\"M0\"] + params[\"epsilon\"]\n",
        "        - np.log10(10**(-params[\"alpha\"]*x) + 10**(-params[\"beta\"]*x))\n",
        "        + 10**params[\"gamma\"]*np.exp(-0.5 * (x / params[\"delta\"])**2)\n",
        "    )"
      ],
      "metadata": {
        "id": "uMUZRWlqiXfR"
      },
      "execution_count": null,
      "outputs": []
    },
    {
      "cell_type": "code",
      "source": [
        "halo_masses = np.arange(11, 15, 0.001)\n",
        "stellar_masses = SHMR(halo_masses, UniverseMachine_params)"
      ],
      "metadata": {
        "id": "6CjkbfkFiiKg"
      },
      "execution_count": null,
      "outputs": []
    },
    {
      "cell_type": "code",
      "source": [
        "def virial_mass(sm):\n",
        "  return halo_masses[np.argmin((sm - stellar_masses)**2)]"
      ],
      "metadata": {
        "id": "sJNlhLYkXJeX"
      },
      "execution_count": null,
      "outputs": []
    },
    {
      "cell_type": "code",
      "source": [
        "def virial_radius(sm, z):\n",
        "  vm = virial_mass(sm)\n",
        "  return mass_so.M_to_R(10 ** vm, z, 'vir')"
      ],
      "metadata": {
        "id": "IAZ9h4CNX7ke"
      },
      "execution_count": null,
      "outputs": []
    },
    {
      "cell_type": "code",
      "source": [
        "def r_to_deg(r, z):\n",
        "  return (r * u.kpc / cosmo.kpc_proper_per_arcmin(z)).to(u.arcmin)"
      ],
      "metadata": {
        "id": "rFxGcHz3mbkK"
      },
      "execution_count": null,
      "outputs": []
    },
    {
      "cell_type": "code",
      "source": [
        "pairs = {}\n",
        "assigned_satellites = set()\n",
        "for id, host_coord in enumerate(tqdm(host_coords)):\n",
        "  vr = virial_radius(hosts.iloc[id]['mass_NSA'], hosts.iloc[id]['z_NSA'])\n",
        "  va = r_to_deg(vr, hosts.iloc[id]['z_NSA'])\n",
        "  host_coord = SkyCoord(ra = [host_coords[id].ra], dec = [host_coords[id].dec])\n",
        "  host_idx, satellite_idx, angsep, _ = host_coord.search_around_sky(satellite_coords, va)\n",
        "  sep = (angsep * cosmo.kpc_proper_per_arcmin(hosts.iloc[id].z_NSA)).to(u.kpc)\n",
        "  pairs[hosts.index[id]] = []\n",
        "  for i, satellite_val in enumerate(host_idx):\n",
        "    if(sep[i] > 36 * u.kpc):\n",
        "      if(satellite_val not in assigned_satellites):\n",
        "        pairs[hosts.index[id]].append(satellites.iloc[satellite_val]['objID'])\n",
        "        assigned_satellites.add(satellite_val)"
      ],
      "metadata": {
        "colab": {
          "base_uri": "https://localhost:8080/"
        },
        "id": "FGNTWvxKj55p",
        "outputId": "6f7a7258-af9a-4361-d9dd-90f7d9d50596"
      },
      "execution_count": null,
      "outputs": [
        {
          "output_type": "stream",
          "name": "stderr",
          "text": [
            "100%|██████████| 12769/12769 [44:23<00:00,  4.79it/s]\n"
          ]
        }
      ]
    },
    {
      "cell_type": "code",
      "source": [
        "for i in range(0, len(hosts)):\n",
        "  if(hosts.iloc[i]['mass_NSA'] > 11):\n",
        "    del pairs[hosts.index[i]]"
      ],
      "metadata": {
        "id": "BLSxKYxxUhqZ"
      },
      "execution_count": null,
      "outputs": []
    },
    {
      "cell_type": "code",
      "source": [
        "import csv\n",
        "\n",
        "w = csv.writer(open(\"hostpairs.csv\", \"w\"))\n",
        "\n",
        "for key, val in pairs.items():\n",
        "\n",
        "    w.writerow([key, val])"
      ],
      "metadata": {
        "id": "0jNcNlepHBNw"
      },
      "execution_count": null,
      "outputs": []
    },
    {
      "cell_type": "code",
      "source": [
        "hosts = hosts[hosts['mass_NSA'] <= 11]"
      ],
      "metadata": {
        "id": "oGCa3eze3OVV"
      },
      "execution_count": null,
      "outputs": []
    },
    {
      "cell_type": "code",
      "source": [
        "import csv\n",
        "import ast\n",
        "\n",
        "def read_csv_as_dict(file_path):\n",
        "    with open(file_path, mode='r', newline='') as file:\n",
        "        reader = csv.reader(file)\n",
        "        data = {}\n",
        "        for row in reader:\n",
        "            key = row[0]\n",
        "            # Convert the string representation of a list to an actual list\n",
        "            value = ast.literal_eval(row[1])\n",
        "            data[key] = value\n",
        "    return data"
      ],
      "metadata": {
        "id": "i2cJCs9E6NzF"
      },
      "execution_count": null,
      "outputs": []
    },
    {
      "cell_type": "code",
      "source": [
        "pairs = read_csv_as_dict('/content/hostpairs (1).csv')"
      ],
      "metadata": {
        "id": "r3nVxPYW6m-X"
      },
      "execution_count": null,
      "outputs": []
    },
    {
      "cell_type": "code",
      "source": [
        "for i in range(0, len(hosts)):\n",
        "  if(hosts.iloc[i]['z_NSA'] < 0.02):\n",
        "    if str(hosts.index[i]) in pairs:\n",
        "      del pairs[str(hosts.index[i])]"
      ],
      "metadata": {
        "id": "CvFQ0g4N-U-c"
      },
      "execution_count": null,
      "outputs": []
    },
    {
      "cell_type": "code",
      "source": [
        "hosts = hosts[hosts['z_NSA'] >= 0.02]"
      ],
      "metadata": {
        "id": "oyx4J8Rk-swt"
      },
      "execution_count": null,
      "outputs": []
    },
    {
      "cell_type": "code",
      "source": [
        "hosts"
      ],
      "metadata": {
        "colab": {
          "base_uri": "https://localhost:8080/",
          "height": 475
        },
        "id": "v3GWATEv-x4c",
        "outputId": "d694bf18-081f-4581-d51b-de65a783dfa8"
      },
      "execution_count": null,
      "outputs": [
        {
          "output_type": "execute_result",
          "data": {
            "text/plain": [
              "           z_NSA      ra_NSA    dec_NSA    M_r_NSA    M_g_NSA   mass_NSA  \\\n",
              "NSAID                                                                      \n",
              "350702  0.025517  217.606577  11.927973 -22.025835 -21.269285  10.984602   \n",
              "352469  0.029077  224.150682   9.369723 -22.206125 -21.470406  10.968457   \n",
              "522694  0.023125  176.550767  20.391653 -21.987951 -21.289984  10.962545   \n",
              "123564  0.025188  344.508086  13.134494 -21.964119 -21.223104  10.961491   \n",
              "402395  0.027054  123.936865  58.321011 -21.972540 -21.175783  10.959362   \n",
              "...          ...         ...        ...        ...        ...        ...   \n",
              "223240  0.028972  246.393312  40.787191 -17.915770 -15.755199   7.787176   \n",
              "325710  0.025637  184.642937  12.855764 -18.330580 -17.478563   5.079427   \n",
              "223226  0.029857  246.441544  39.609182  -8.395647  -9.839364   3.560767   \n",
              "208673  0.029200  214.976616  51.895050        inf        inf       -inf   \n",
              "17347   0.022561  173.538090  -1.595616        inf        inf       -inf   \n",
              "\n",
              "        SERSIC_N_NSA  SERSIC_BA_NSA  SERSIC_PHI_NSA  ELPETRO_BA_NSA  PLATE  \\\n",
              "NSAID                                                                        \n",
              "350702      5.257183       0.857721      120.447998        0.910484   1710   \n",
              "352469      6.000000       0.665823       84.467041        0.697892   1715   \n",
              "522694      6.000000       0.734939       12.358368        0.772986   2509   \n",
              "123564      6.000000       0.679418       45.890747        0.731137    741   \n",
              "402395      3.853148       0.785757      100.288239        0.841223   1873   \n",
              "...              ...            ...             ...             ...    ...   \n",
              "223240      0.500000       1.000000      117.718842        0.880065   1172   \n",
              "325710      1.436873       0.306668      147.662933        0.469843   1614   \n",
              "223226      0.709980       0.205326      156.155151        0.183755   1172   \n",
              "208673      0.500000       0.502882       15.391083             NaN   1045   \n",
              "17347       0.500000       0.631206       62.208527             NaN    327   \n",
              "\n",
              "          MJD  FIBERID   mass_GSE  mass_err_GSE  n_sats_in_300kpc  \\\n",
              "NSAID                                                               \n",
              "350702  53504      317  11.326582      0.086736                 3   \n",
              "352469  54212      193  11.212667      0.087128                 8   \n",
              "522694  54180      492  11.173956      0.081876                 5   \n",
              "123564  52261       12  11.232985      0.080872                 5   \n",
              "402395  54437      391  11.272670      0.085734                 1   \n",
              "...       ...      ...        ...           ...               ...   \n",
              "223240  52759      457   9.649350      0.094504                 0   \n",
              "325710  53120      356   9.752282      0.092904                 0   \n",
              "223226  52759      435  10.985835      0.086237                 3   \n",
              "208673  52725      489  10.048760      0.079997                 3   \n",
              "17347   52294      460  10.449144      0.095005                 1   \n",
              "\n",
              "        n_sats_in_150kpc  n_bright_sats_in_300kpc  N_unrelated_lowz  \\\n",
              "NSAID                                                                 \n",
              "350702                 2                        3          0.023889   \n",
              "352469                 3                        8          0.029606   \n",
              "522694                 2                        5          0.035396   \n",
              "123564                 2                        5          0.023366   \n",
              "402395                 0                        1          0.026347   \n",
              "...                  ...                      ...               ...   \n",
              "223240                 0                        0          0.029435   \n",
              "325710                 0                        0          0.024082   \n",
              "223226                 0                        3          0.030867   \n",
              "208673                 1                        2          0.029804   \n",
              "17347                  0                        1          0.039703   \n",
              "\n",
              "        n_corr_sats_in_300kpc  \n",
              "NSAID                          \n",
              "350702               4.785405  \n",
              "352469              13.155597  \n",
              "522694               8.067079  \n",
              "123564               8.114398  \n",
              "402395               1.470034  \n",
              "...                       ...  \n",
              "223240              -0.178604  \n",
              "325710              -0.213055  \n",
              "223226               4.828380  \n",
              "208673               4.823271  \n",
              "17347                1.384739  \n",
              "\n",
              "[10408 rows x 20 columns]"
            ],
            "text/html": [
              "\n",
              "  <div id=\"df-760c9ae0-e9bd-4caf-beeb-d1ffd7488dcc\" class=\"colab-df-container\">\n",
              "    <div>\n",
              "<style scoped>\n",
              "    .dataframe tbody tr th:only-of-type {\n",
              "        vertical-align: middle;\n",
              "    }\n",
              "\n",
              "    .dataframe tbody tr th {\n",
              "        vertical-align: top;\n",
              "    }\n",
              "\n",
              "    .dataframe thead th {\n",
              "        text-align: right;\n",
              "    }\n",
              "</style>\n",
              "<table border=\"1\" class=\"dataframe\">\n",
              "  <thead>\n",
              "    <tr style=\"text-align: right;\">\n",
              "      <th></th>\n",
              "      <th>z_NSA</th>\n",
              "      <th>ra_NSA</th>\n",
              "      <th>dec_NSA</th>\n",
              "      <th>M_r_NSA</th>\n",
              "      <th>M_g_NSA</th>\n",
              "      <th>mass_NSA</th>\n",
              "      <th>SERSIC_N_NSA</th>\n",
              "      <th>SERSIC_BA_NSA</th>\n",
              "      <th>SERSIC_PHI_NSA</th>\n",
              "      <th>ELPETRO_BA_NSA</th>\n",
              "      <th>PLATE</th>\n",
              "      <th>MJD</th>\n",
              "      <th>FIBERID</th>\n",
              "      <th>mass_GSE</th>\n",
              "      <th>mass_err_GSE</th>\n",
              "      <th>n_sats_in_300kpc</th>\n",
              "      <th>n_sats_in_150kpc</th>\n",
              "      <th>n_bright_sats_in_300kpc</th>\n",
              "      <th>N_unrelated_lowz</th>\n",
              "      <th>n_corr_sats_in_300kpc</th>\n",
              "    </tr>\n",
              "    <tr>\n",
              "      <th>NSAID</th>\n",
              "      <th></th>\n",
              "      <th></th>\n",
              "      <th></th>\n",
              "      <th></th>\n",
              "      <th></th>\n",
              "      <th></th>\n",
              "      <th></th>\n",
              "      <th></th>\n",
              "      <th></th>\n",
              "      <th></th>\n",
              "      <th></th>\n",
              "      <th></th>\n",
              "      <th></th>\n",
              "      <th></th>\n",
              "      <th></th>\n",
              "      <th></th>\n",
              "      <th></th>\n",
              "      <th></th>\n",
              "      <th></th>\n",
              "      <th></th>\n",
              "    </tr>\n",
              "  </thead>\n",
              "  <tbody>\n",
              "    <tr>\n",
              "      <th>350702</th>\n",
              "      <td>0.025517</td>\n",
              "      <td>217.606577</td>\n",
              "      <td>11.927973</td>\n",
              "      <td>-22.025835</td>\n",
              "      <td>-21.269285</td>\n",
              "      <td>10.984602</td>\n",
              "      <td>5.257183</td>\n",
              "      <td>0.857721</td>\n",
              "      <td>120.447998</td>\n",
              "      <td>0.910484</td>\n",
              "      <td>1710</td>\n",
              "      <td>53504</td>\n",
              "      <td>317</td>\n",
              "      <td>11.326582</td>\n",
              "      <td>0.086736</td>\n",
              "      <td>3</td>\n",
              "      <td>2</td>\n",
              "      <td>3</td>\n",
              "      <td>0.023889</td>\n",
              "      <td>4.785405</td>\n",
              "    </tr>\n",
              "    <tr>\n",
              "      <th>352469</th>\n",
              "      <td>0.029077</td>\n",
              "      <td>224.150682</td>\n",
              "      <td>9.369723</td>\n",
              "      <td>-22.206125</td>\n",
              "      <td>-21.470406</td>\n",
              "      <td>10.968457</td>\n",
              "      <td>6.000000</td>\n",
              "      <td>0.665823</td>\n",
              "      <td>84.467041</td>\n",
              "      <td>0.697892</td>\n",
              "      <td>1715</td>\n",
              "      <td>54212</td>\n",
              "      <td>193</td>\n",
              "      <td>11.212667</td>\n",
              "      <td>0.087128</td>\n",
              "      <td>8</td>\n",
              "      <td>3</td>\n",
              "      <td>8</td>\n",
              "      <td>0.029606</td>\n",
              "      <td>13.155597</td>\n",
              "    </tr>\n",
              "    <tr>\n",
              "      <th>522694</th>\n",
              "      <td>0.023125</td>\n",
              "      <td>176.550767</td>\n",
              "      <td>20.391653</td>\n",
              "      <td>-21.987951</td>\n",
              "      <td>-21.289984</td>\n",
              "      <td>10.962545</td>\n",
              "      <td>6.000000</td>\n",
              "      <td>0.734939</td>\n",
              "      <td>12.358368</td>\n",
              "      <td>0.772986</td>\n",
              "      <td>2509</td>\n",
              "      <td>54180</td>\n",
              "      <td>492</td>\n",
              "      <td>11.173956</td>\n",
              "      <td>0.081876</td>\n",
              "      <td>5</td>\n",
              "      <td>2</td>\n",
              "      <td>5</td>\n",
              "      <td>0.035396</td>\n",
              "      <td>8.067079</td>\n",
              "    </tr>\n",
              "    <tr>\n",
              "      <th>123564</th>\n",
              "      <td>0.025188</td>\n",
              "      <td>344.508086</td>\n",
              "      <td>13.134494</td>\n",
              "      <td>-21.964119</td>\n",
              "      <td>-21.223104</td>\n",
              "      <td>10.961491</td>\n",
              "      <td>6.000000</td>\n",
              "      <td>0.679418</td>\n",
              "      <td>45.890747</td>\n",
              "      <td>0.731137</td>\n",
              "      <td>741</td>\n",
              "      <td>52261</td>\n",
              "      <td>12</td>\n",
              "      <td>11.232985</td>\n",
              "      <td>0.080872</td>\n",
              "      <td>5</td>\n",
              "      <td>2</td>\n",
              "      <td>5</td>\n",
              "      <td>0.023366</td>\n",
              "      <td>8.114398</td>\n",
              "    </tr>\n",
              "    <tr>\n",
              "      <th>402395</th>\n",
              "      <td>0.027054</td>\n",
              "      <td>123.936865</td>\n",
              "      <td>58.321011</td>\n",
              "      <td>-21.972540</td>\n",
              "      <td>-21.175783</td>\n",
              "      <td>10.959362</td>\n",
              "      <td>3.853148</td>\n",
              "      <td>0.785757</td>\n",
              "      <td>100.288239</td>\n",
              "      <td>0.841223</td>\n",
              "      <td>1873</td>\n",
              "      <td>54437</td>\n",
              "      <td>391</td>\n",
              "      <td>11.272670</td>\n",
              "      <td>0.085734</td>\n",
              "      <td>1</td>\n",
              "      <td>0</td>\n",
              "      <td>1</td>\n",
              "      <td>0.026347</td>\n",
              "      <td>1.470034</td>\n",
              "    </tr>\n",
              "    <tr>\n",
              "      <th>...</th>\n",
              "      <td>...</td>\n",
              "      <td>...</td>\n",
              "      <td>...</td>\n",
              "      <td>...</td>\n",
              "      <td>...</td>\n",
              "      <td>...</td>\n",
              "      <td>...</td>\n",
              "      <td>...</td>\n",
              "      <td>...</td>\n",
              "      <td>...</td>\n",
              "      <td>...</td>\n",
              "      <td>...</td>\n",
              "      <td>...</td>\n",
              "      <td>...</td>\n",
              "      <td>...</td>\n",
              "      <td>...</td>\n",
              "      <td>...</td>\n",
              "      <td>...</td>\n",
              "      <td>...</td>\n",
              "      <td>...</td>\n",
              "    </tr>\n",
              "    <tr>\n",
              "      <th>223240</th>\n",
              "      <td>0.028972</td>\n",
              "      <td>246.393312</td>\n",
              "      <td>40.787191</td>\n",
              "      <td>-17.915770</td>\n",
              "      <td>-15.755199</td>\n",
              "      <td>7.787176</td>\n",
              "      <td>0.500000</td>\n",
              "      <td>1.000000</td>\n",
              "      <td>117.718842</td>\n",
              "      <td>0.880065</td>\n",
              "      <td>1172</td>\n",
              "      <td>52759</td>\n",
              "      <td>457</td>\n",
              "      <td>9.649350</td>\n",
              "      <td>0.094504</td>\n",
              "      <td>0</td>\n",
              "      <td>0</td>\n",
              "      <td>0</td>\n",
              "      <td>0.029435</td>\n",
              "      <td>-0.178604</td>\n",
              "    </tr>\n",
              "    <tr>\n",
              "      <th>325710</th>\n",
              "      <td>0.025637</td>\n",
              "      <td>184.642937</td>\n",
              "      <td>12.855764</td>\n",
              "      <td>-18.330580</td>\n",
              "      <td>-17.478563</td>\n",
              "      <td>5.079427</td>\n",
              "      <td>1.436873</td>\n",
              "      <td>0.306668</td>\n",
              "      <td>147.662933</td>\n",
              "      <td>0.469843</td>\n",
              "      <td>1614</td>\n",
              "      <td>53120</td>\n",
              "      <td>356</td>\n",
              "      <td>9.752282</td>\n",
              "      <td>0.092904</td>\n",
              "      <td>0</td>\n",
              "      <td>0</td>\n",
              "      <td>0</td>\n",
              "      <td>0.024082</td>\n",
              "      <td>-0.213055</td>\n",
              "    </tr>\n",
              "    <tr>\n",
              "      <th>223226</th>\n",
              "      <td>0.029857</td>\n",
              "      <td>246.441544</td>\n",
              "      <td>39.609182</td>\n",
              "      <td>-8.395647</td>\n",
              "      <td>-9.839364</td>\n",
              "      <td>3.560767</td>\n",
              "      <td>0.709980</td>\n",
              "      <td>0.205326</td>\n",
              "      <td>156.155151</td>\n",
              "      <td>0.183755</td>\n",
              "      <td>1172</td>\n",
              "      <td>52759</td>\n",
              "      <td>435</td>\n",
              "      <td>10.985835</td>\n",
              "      <td>0.086237</td>\n",
              "      <td>3</td>\n",
              "      <td>0</td>\n",
              "      <td>3</td>\n",
              "      <td>0.030867</td>\n",
              "      <td>4.828380</td>\n",
              "    </tr>\n",
              "    <tr>\n",
              "      <th>208673</th>\n",
              "      <td>0.029200</td>\n",
              "      <td>214.976616</td>\n",
              "      <td>51.895050</td>\n",
              "      <td>inf</td>\n",
              "      <td>inf</td>\n",
              "      <td>-inf</td>\n",
              "      <td>0.500000</td>\n",
              "      <td>0.502882</td>\n",
              "      <td>15.391083</td>\n",
              "      <td>NaN</td>\n",
              "      <td>1045</td>\n",
              "      <td>52725</td>\n",
              "      <td>489</td>\n",
              "      <td>10.048760</td>\n",
              "      <td>0.079997</td>\n",
              "      <td>3</td>\n",
              "      <td>1</td>\n",
              "      <td>2</td>\n",
              "      <td>0.029804</td>\n",
              "      <td>4.823271</td>\n",
              "    </tr>\n",
              "    <tr>\n",
              "      <th>17347</th>\n",
              "      <td>0.022561</td>\n",
              "      <td>173.538090</td>\n",
              "      <td>-1.595616</td>\n",
              "      <td>inf</td>\n",
              "      <td>inf</td>\n",
              "      <td>-inf</td>\n",
              "      <td>0.500000</td>\n",
              "      <td>0.631206</td>\n",
              "      <td>62.208527</td>\n",
              "      <td>NaN</td>\n",
              "      <td>327</td>\n",
              "      <td>52294</td>\n",
              "      <td>460</td>\n",
              "      <td>10.449144</td>\n",
              "      <td>0.095005</td>\n",
              "      <td>1</td>\n",
              "      <td>0</td>\n",
              "      <td>1</td>\n",
              "      <td>0.039703</td>\n",
              "      <td>1.384739</td>\n",
              "    </tr>\n",
              "  </tbody>\n",
              "</table>\n",
              "<p>10408 rows × 20 columns</p>\n",
              "</div>\n",
              "    <div class=\"colab-df-buttons\">\n",
              "\n",
              "  <div class=\"colab-df-container\">\n",
              "    <button class=\"colab-df-convert\" onclick=\"convertToInteractive('df-760c9ae0-e9bd-4caf-beeb-d1ffd7488dcc')\"\n",
              "            title=\"Convert this dataframe to an interactive table.\"\n",
              "            style=\"display:none;\">\n",
              "\n",
              "  <svg xmlns=\"http://www.w3.org/2000/svg\" height=\"24px\" viewBox=\"0 -960 960 960\">\n",
              "    <path d=\"M120-120v-720h720v720H120Zm60-500h600v-160H180v160Zm220 220h160v-160H400v160Zm0 220h160v-160H400v160ZM180-400h160v-160H180v160Zm440 0h160v-160H620v160ZM180-180h160v-160H180v160Zm440 0h160v-160H620v160Z\"/>\n",
              "  </svg>\n",
              "    </button>\n",
              "\n",
              "  <style>\n",
              "    .colab-df-container {\n",
              "      display:flex;\n",
              "      gap: 12px;\n",
              "    }\n",
              "\n",
              "    .colab-df-convert {\n",
              "      background-color: #E8F0FE;\n",
              "      border: none;\n",
              "      border-radius: 50%;\n",
              "      cursor: pointer;\n",
              "      display: none;\n",
              "      fill: #1967D2;\n",
              "      height: 32px;\n",
              "      padding: 0 0 0 0;\n",
              "      width: 32px;\n",
              "    }\n",
              "\n",
              "    .colab-df-convert:hover {\n",
              "      background-color: #E2EBFA;\n",
              "      box-shadow: 0px 1px 2px rgba(60, 64, 67, 0.3), 0px 1px 3px 1px rgba(60, 64, 67, 0.15);\n",
              "      fill: #174EA6;\n",
              "    }\n",
              "\n",
              "    .colab-df-buttons div {\n",
              "      margin-bottom: 4px;\n",
              "    }\n",
              "\n",
              "    [theme=dark] .colab-df-convert {\n",
              "      background-color: #3B4455;\n",
              "      fill: #D2E3FC;\n",
              "    }\n",
              "\n",
              "    [theme=dark] .colab-df-convert:hover {\n",
              "      background-color: #434B5C;\n",
              "      box-shadow: 0px 1px 3px 1px rgba(0, 0, 0, 0.15);\n",
              "      filter: drop-shadow(0px 1px 2px rgba(0, 0, 0, 0.3));\n",
              "      fill: #FFFFFF;\n",
              "    }\n",
              "  </style>\n",
              "\n",
              "    <script>\n",
              "      const buttonEl =\n",
              "        document.querySelector('#df-760c9ae0-e9bd-4caf-beeb-d1ffd7488dcc button.colab-df-convert');\n",
              "      buttonEl.style.display =\n",
              "        google.colab.kernel.accessAllowed ? 'block' : 'none';\n",
              "\n",
              "      async function convertToInteractive(key) {\n",
              "        const element = document.querySelector('#df-760c9ae0-e9bd-4caf-beeb-d1ffd7488dcc');\n",
              "        const dataTable =\n",
              "          await google.colab.kernel.invokeFunction('convertToInteractive',\n",
              "                                                    [key], {});\n",
              "        if (!dataTable) return;\n",
              "\n",
              "        const docLinkHtml = 'Like what you see? Visit the ' +\n",
              "          '<a target=\"_blank\" href=https://colab.research.google.com/notebooks/data_table.ipynb>data table notebook</a>'\n",
              "          + ' to learn more about interactive tables.';\n",
              "        element.innerHTML = '';\n",
              "        dataTable['output_type'] = 'display_data';\n",
              "        await google.colab.output.renderOutput(dataTable, element);\n",
              "        const docLink = document.createElement('div');\n",
              "        docLink.innerHTML = docLinkHtml;\n",
              "        element.appendChild(docLink);\n",
              "      }\n",
              "    </script>\n",
              "  </div>\n",
              "\n",
              "\n",
              "<div id=\"df-6cd4f52d-a64b-4df4-808e-27eb8590cc59\">\n",
              "  <button class=\"colab-df-quickchart\" onclick=\"quickchart('df-6cd4f52d-a64b-4df4-808e-27eb8590cc59')\"\n",
              "            title=\"Suggest charts\"\n",
              "            style=\"display:none;\">\n",
              "\n",
              "<svg xmlns=\"http://www.w3.org/2000/svg\" height=\"24px\"viewBox=\"0 0 24 24\"\n",
              "     width=\"24px\">\n",
              "    <g>\n",
              "        <path d=\"M19 3H5c-1.1 0-2 .9-2 2v14c0 1.1.9 2 2 2h14c1.1 0 2-.9 2-2V5c0-1.1-.9-2-2-2zM9 17H7v-7h2v7zm4 0h-2V7h2v10zm4 0h-2v-4h2v4z\"/>\n",
              "    </g>\n",
              "</svg>\n",
              "  </button>\n",
              "\n",
              "<style>\n",
              "  .colab-df-quickchart {\n",
              "      --bg-color: #E8F0FE;\n",
              "      --fill-color: #1967D2;\n",
              "      --hover-bg-color: #E2EBFA;\n",
              "      --hover-fill-color: #174EA6;\n",
              "      --disabled-fill-color: #AAA;\n",
              "      --disabled-bg-color: #DDD;\n",
              "  }\n",
              "\n",
              "  [theme=dark] .colab-df-quickchart {\n",
              "      --bg-color: #3B4455;\n",
              "      --fill-color: #D2E3FC;\n",
              "      --hover-bg-color: #434B5C;\n",
              "      --hover-fill-color: #FFFFFF;\n",
              "      --disabled-bg-color: #3B4455;\n",
              "      --disabled-fill-color: #666;\n",
              "  }\n",
              "\n",
              "  .colab-df-quickchart {\n",
              "    background-color: var(--bg-color);\n",
              "    border: none;\n",
              "    border-radius: 50%;\n",
              "    cursor: pointer;\n",
              "    display: none;\n",
              "    fill: var(--fill-color);\n",
              "    height: 32px;\n",
              "    padding: 0;\n",
              "    width: 32px;\n",
              "  }\n",
              "\n",
              "  .colab-df-quickchart:hover {\n",
              "    background-color: var(--hover-bg-color);\n",
              "    box-shadow: 0 1px 2px rgba(60, 64, 67, 0.3), 0 1px 3px 1px rgba(60, 64, 67, 0.15);\n",
              "    fill: var(--button-hover-fill-color);\n",
              "  }\n",
              "\n",
              "  .colab-df-quickchart-complete:disabled,\n",
              "  .colab-df-quickchart-complete:disabled:hover {\n",
              "    background-color: var(--disabled-bg-color);\n",
              "    fill: var(--disabled-fill-color);\n",
              "    box-shadow: none;\n",
              "  }\n",
              "\n",
              "  .colab-df-spinner {\n",
              "    border: 2px solid var(--fill-color);\n",
              "    border-color: transparent;\n",
              "    border-bottom-color: var(--fill-color);\n",
              "    animation:\n",
              "      spin 1s steps(1) infinite;\n",
              "  }\n",
              "\n",
              "  @keyframes spin {\n",
              "    0% {\n",
              "      border-color: transparent;\n",
              "      border-bottom-color: var(--fill-color);\n",
              "      border-left-color: var(--fill-color);\n",
              "    }\n",
              "    20% {\n",
              "      border-color: transparent;\n",
              "      border-left-color: var(--fill-color);\n",
              "      border-top-color: var(--fill-color);\n",
              "    }\n",
              "    30% {\n",
              "      border-color: transparent;\n",
              "      border-left-color: var(--fill-color);\n",
              "      border-top-color: var(--fill-color);\n",
              "      border-right-color: var(--fill-color);\n",
              "    }\n",
              "    40% {\n",
              "      border-color: transparent;\n",
              "      border-right-color: var(--fill-color);\n",
              "      border-top-color: var(--fill-color);\n",
              "    }\n",
              "    60% {\n",
              "      border-color: transparent;\n",
              "      border-right-color: var(--fill-color);\n",
              "    }\n",
              "    80% {\n",
              "      border-color: transparent;\n",
              "      border-right-color: var(--fill-color);\n",
              "      border-bottom-color: var(--fill-color);\n",
              "    }\n",
              "    90% {\n",
              "      border-color: transparent;\n",
              "      border-bottom-color: var(--fill-color);\n",
              "    }\n",
              "  }\n",
              "</style>\n",
              "\n",
              "  <script>\n",
              "    async function quickchart(key) {\n",
              "      const quickchartButtonEl =\n",
              "        document.querySelector('#' + key + ' button');\n",
              "      quickchartButtonEl.disabled = true;  // To prevent multiple clicks.\n",
              "      quickchartButtonEl.classList.add('colab-df-spinner');\n",
              "      try {\n",
              "        const charts = await google.colab.kernel.invokeFunction(\n",
              "            'suggestCharts', [key], {});\n",
              "      } catch (error) {\n",
              "        console.error('Error during call to suggestCharts:', error);\n",
              "      }\n",
              "      quickchartButtonEl.classList.remove('colab-df-spinner');\n",
              "      quickchartButtonEl.classList.add('colab-df-quickchart-complete');\n",
              "    }\n",
              "    (() => {\n",
              "      let quickchartButtonEl =\n",
              "        document.querySelector('#df-6cd4f52d-a64b-4df4-808e-27eb8590cc59 button');\n",
              "      quickchartButtonEl.style.display =\n",
              "        google.colab.kernel.accessAllowed ? 'block' : 'none';\n",
              "    })();\n",
              "  </script>\n",
              "</div>\n",
              "    </div>\n",
              "  </div>\n"
            ],
            "application/vnd.google.colaboratory.intrinsic+json": {
              "type": "dataframe",
              "variable_name": "hosts",
              "summary": "{\n  \"name\": \"hosts\",\n  \"rows\": 10408,\n  \"fields\": [\n    {\n      \"column\": \"NSAID\",\n      \"properties\": {\n        \"dtype\": \"number\",\n        \"std\": 194387,\n        \"min\": 0,\n        \"max\": 698382,\n        \"num_unique_values\": 10408,\n        \"samples\": [\n          542492,\n          402878,\n          427403\n        ],\n        \"semantic_type\": \"\",\n        \"description\": \"\"\n      }\n    },\n    {\n      \"column\": \"z_NSA\",\n      \"properties\": {\n        \"dtype\": \"float32\",\n        \"num_unique_values\": 10395,\n        \"samples\": [\n          0.02108549326658249,\n          0.02310827374458313,\n          0.024281783029437065\n        ],\n        \"semantic_type\": \"\",\n        \"description\": \"\"\n      }\n    },\n    {\n      \"column\": \"ra_NSA\",\n      \"properties\": {\n        \"dtype\": \"number\",\n        \"std\": 53.54321943410154,\n        \"min\": 0.008808338465149355,\n        \"max\": 359.4322716529914,\n        \"num_unique_values\": 10408,\n        \"samples\": [\n          183.2638708918593,\n          133.48195433502747,\n          188.20264183368846\n        ],\n        \"semantic_type\": \"\",\n        \"description\": \"\"\n      }\n    },\n    {\n      \"column\": \"dec_NSA\",\n      \"properties\": {\n        \"dtype\": \"number\",\n        \"std\": 17.293959740651562,\n        \"min\": -11.115705281295272,\n        \"max\": 69.68297250630573,\n        \"num_unique_values\": 10408,\n        \"samples\": [\n          21.024069936426645,\n          61.92596222692632,\n          36.27390344904016\n        ],\n        \"semantic_type\": \"\",\n        \"description\": \"\"\n      }\n    },\n    {\n      \"column\": \"M_r_NSA\",\n      \"properties\": {\n        \"dtype\": \"float32\",\n        \"num_unique_values\": 10369,\n        \"samples\": [\n          -19.184734344482422,\n          -21.48227882385254,\n          -18.61910629272461\n        ],\n        \"semantic_type\": \"\",\n        \"description\": \"\"\n      }\n    },\n    {\n      \"column\": \"M_g_NSA\",\n      \"properties\": {\n        \"dtype\": \"float32\",\n        \"num_unique_values\": 10370,\n        \"samples\": [\n          -18.525440216064453,\n          -20.910409927368164,\n          -19.034587860107422\n        ],\n        \"semantic_type\": \"\",\n        \"description\": \"\"\n      }\n    },\n    {\n      \"column\": \"mass_NSA\",\n      \"properties\": {\n        \"dtype\": \"float32\",\n        \"num_unique_values\": 10369,\n        \"samples\": [\n          9.57071304321289,\n          10.620613098144531,\n          9.58390998840332\n        ],\n        \"semantic_type\": \"\",\n        \"description\": \"\"\n      }\n    },\n    {\n      \"column\": \"SERSIC_N_NSA\",\n      \"properties\": {\n        \"dtype\": \"float32\",\n        \"num_unique_values\": 9085,\n        \"samples\": [\n          3.9490604400634766,\n          3.324232339859009,\n          2.848562002182007\n        ],\n        \"semantic_type\": \"\",\n        \"description\": \"\"\n      }\n    },\n    {\n      \"column\": \"SERSIC_BA_NSA\",\n      \"properties\": {\n        \"dtype\": \"float32\",\n        \"num_unique_values\": 10142,\n        \"samples\": [\n          0.8545324802398682,\n          0.2770977318286896,\n          0.9126890897750854\n        ],\n        \"semantic_type\": \"\",\n        \"description\": \"\"\n      }\n    },\n    {\n      \"column\": \"SERSIC_PHI_NSA\",\n      \"properties\": {\n        \"dtype\": \"float32\",\n        \"num_unique_values\": 10389,\n        \"samples\": [\n          10.26434326171875,\n          60.06500244140625,\n          156.66696166992188\n        ],\n        \"semantic_type\": \"\",\n        \"description\": \"\"\n      }\n    },\n    {\n      \"column\": \"ELPETRO_BA_NSA\",\n      \"properties\": {\n        \"dtype\": \"float32\",\n        \"num_unique_values\": 10401,\n        \"samples\": [\n          0.38769131898880005,\n          0.8796712160110474,\n          0.5327802300453186\n        ],\n        \"semantic_type\": \"\",\n        \"description\": \"\"\n      }\n    },\n    {\n      \"column\": \"PLATE\",\n      \"properties\": {\n        \"dtype\": \"int32\",\n        \"num_unique_values\": 1540,\n        \"samples\": [\n          536,\n          373,\n          1688\n        ],\n        \"semantic_type\": \"\",\n        \"description\": \"\"\n      }\n    },\n    {\n      \"column\": \"MJD\",\n      \"properties\": {\n        \"dtype\": \"int32\",\n        \"num_unique_values\": 690,\n        \"samples\": [\n          52618,\n          52438,\n          53845\n        ],\n        \"semantic_type\": \"\",\n        \"description\": \"\"\n      }\n    },\n    {\n      \"column\": \"FIBERID\",\n      \"properties\": {\n        \"dtype\": \"int16\",\n        \"num_unique_values\": 640,\n        \"samples\": [\n          562,\n          604,\n          522\n        ],\n        \"semantic_type\": \"\",\n        \"description\": \"\"\n      }\n    },\n    {\n      \"column\": \"mass_GSE\",\n      \"properties\": {\n        \"dtype\": \"float32\",\n        \"num_unique_values\": 10368,\n        \"samples\": [\n          10.665563583374023,\n          10.814359664916992,\n          9.750808715820312\n        ],\n        \"semantic_type\": \"\",\n        \"description\": \"\"\n      }\n    },\n    {\n      \"column\": \"mass_err_GSE\",\n      \"properties\": {\n        \"dtype\": \"float32\",\n        \"num_unique_values\": 9240,\n        \"samples\": [\n          0.08211040496826172,\n          0.0973958969116211,\n          0.08935165405273438\n        ],\n        \"semantic_type\": \"\",\n        \"description\": \"\"\n      }\n    },\n    {\n      \"column\": \"n_sats_in_300kpc\",\n      \"properties\": {\n        \"dtype\": \"number\",\n        \"std\": 1,\n        \"min\": 0,\n        \"max\": 34,\n        \"num_unique_values\": 24,\n        \"samples\": [\n          0,\n          21,\n          3\n        ],\n        \"semantic_type\": \"\",\n        \"description\": \"\"\n      }\n    },\n    {\n      \"column\": \"n_sats_in_150kpc\",\n      \"properties\": {\n        \"dtype\": \"number\",\n        \"std\": 0,\n        \"min\": 0,\n        \"max\": 10,\n        \"num_unique_values\": 11,\n        \"samples\": [\n          9,\n          2,\n          8\n        ],\n        \"semantic_type\": \"\",\n        \"description\": \"\"\n      }\n    },\n    {\n      \"column\": \"n_bright_sats_in_300kpc\",\n      \"properties\": {\n        \"dtype\": \"number\",\n        \"std\": 1,\n        \"min\": 0,\n        \"max\": 31,\n        \"num_unique_values\": 22,\n        \"samples\": [\n          3,\n          11,\n          2\n        ],\n        \"semantic_type\": \"\",\n        \"description\": \"\"\n      }\n    },\n    {\n      \"column\": \"N_unrelated_lowz\",\n      \"properties\": {\n        \"dtype\": \"number\",\n        \"std\": 0.009126111651809378,\n        \"min\": 0.02307245550689478,\n        \"max\": 0.0639017769130476,\n        \"num_unique_values\": 10395,\n        \"samples\": [\n          0.0525903423182865,\n          0.03552231516427755,\n          0.027467163466744233\n        ],\n        \"semantic_type\": \"\",\n        \"description\": \"\"\n      }\n    },\n    {\n      \"column\": \"n_corr_sats_in_300kpc\",\n      \"properties\": {\n        \"dtype\": \"number\",\n        \"std\": 3.18330938468942,\n        \"min\": -0.3701377347325884,\n        \"max\": 56.32736342443611,\n        \"num_unique_values\": 10402,\n        \"samples\": [\n          -0.19339895461585174,\n          -0.20325669006157285,\n          -0.23364392599481443\n        ],\n        \"semantic_type\": \"\",\n        \"description\": \"\"\n      }\n    }\n  ]\n}"
            }
          },
          "metadata": {},
          "execution_count": 133
        }
      ]
    },
    {
      "cell_type": "code",
      "source": [
        "n_sat = []"
      ],
      "metadata": {
        "id": "otNM8aGO10du"
      },
      "execution_count": null,
      "outputs": []
    },
    {
      "cell_type": "code",
      "source": [
        "for i in range(0, len(hosts)):\n",
        "  if str(hosts.index[i]) in pairs:\n",
        "    n_sat.append(len(pairs[str(hosts.index[i])]))\n",
        "  else:\n",
        "    n_sat.append(0)"
      ],
      "metadata": {
        "id": "DJj2O1gMxbio"
      },
      "execution_count": null,
      "outputs": []
    },
    {
      "cell_type": "code",
      "source": [
        "hosts['n_sat'] = n_sat"
      ],
      "metadata": {
        "id": "V1FbLESm3_qx"
      },
      "execution_count": null,
      "outputs": []
    },
    {
      "cell_type": "code",
      "source": [
        "hosts['n_sat']"
      ],
      "metadata": {
        "colab": {
          "base_uri": "https://localhost:8080/"
        },
        "id": "SWh1y3IZ3EYd",
        "outputId": "d58f9002-0ebe-4b4c-a1e3-603c8dc0d902"
      },
      "execution_count": null,
      "outputs": [
        {
          "output_type": "execute_result",
          "data": {
            "text/plain": [
              "NSAID\n",
              "350702     5\n",
              "352469    18\n",
              "522694    10\n",
              "123564     7\n",
              "402395     2\n",
              "          ..\n",
              "223240     0\n",
              "325710     0\n",
              "223226     0\n",
              "208673     0\n",
              "17347      0\n",
              "Name: n_sat, Length: 10408, dtype: int64"
            ]
          },
          "metadata": {},
          "execution_count": 137
        }
      ]
    },
    {
      "cell_type": "code",
      "source": [
        "bin1 = []\n",
        "bin2 = []\n",
        "bin3 = []\n",
        "bin4 = []"
      ],
      "metadata": {
        "id": "zdISovMl40fO"
      },
      "execution_count": null,
      "outputs": []
    },
    {
      "cell_type": "code",
      "source": [
        "for i in range(0, len(hosts)):\n",
        "  val = hosts.iloc[i]\n",
        "  if(val['mass_NSA'] < 9.5 and val['mass_NSA'] >= 9):\n",
        "    bin1.append(val['n_sat'])\n",
        "  elif(val['mass_NSA'] < 10 and val['mass_NSA'] >= 9.5):\n",
        "    bin2.append(val['n_sat'])\n",
        "  elif(val['mass_NSA'] < 10.5 and val['mass_NSA'] >= 10):\n",
        "    bin3.append(val['n_sat'])\n",
        "  else:\n",
        "    bin4.append(val['n_sat'])"
      ],
      "metadata": {
        "id": "C9rFGw4Y5j0v"
      },
      "execution_count": null,
      "outputs": []
    },
    {
      "cell_type": "code",
      "source": [
        "import matplotlib.pyplot as plt\n",
        "groups = ['[9, 9.5)', '[9.5, 10)', '[10, 10.5)', '[10.5, 11]']\n",
        "values = [sum(bin1)/len(bin1), sum(bin2)/len(bin2), sum(bin3)/len(bin3), sum(bin4)/len(bin4)]\n",
        "plt.bar(groups, values)\n",
        "plt.xlabel('Mass Bins (Log M*/Msun)')\n",
        "plt.ylabel('Average Satellites')\n",
        "plt.title('Average Satellites vs Mass')"
      ],
      "metadata": {
        "colab": {
          "base_uri": "https://localhost:8080/",
          "height": 490
        },
        "id": "gpprz8Z96x0k",
        "outputId": "64b9f0dd-e31c-44e2-d7fc-16bc9205e640"
      },
      "execution_count": null,
      "outputs": [
        {
          "output_type": "execute_result",
          "data": {
            "text/plain": [
              "Text(0.5, 1.0, 'Average Satellites vs Mass')"
            ]
          },
          "metadata": {},
          "execution_count": 140
        },
        {
          "output_type": "display_data",
          "data": {
            "text/plain": [
              "<Figure size 640x480 with 1 Axes>"
            ],
            "image/png": "[encoded data removed]"
          },
          "metadata": {}
        }
      ]
    },
    {
      "cell_type": "code",
      "source": [
        "plt.hist(n_sat, bins = 10, range = (0, 20))\n",
        "plt.xlabel('N_sat per Host')\n",
        "plt.ylabel('Frequency')"
      ],
      "metadata": {
        "colab": {
          "base_uri": "https://localhost:8080/",
          "height": 467
        },
        "id": "nZFImSRw8QV6",
        "outputId": "98fa9bab-5233-480d-f138-b24de8780b33"
      },
      "execution_count": null,
      "outputs": [
        {
          "output_type": "execute_result",
          "data": {
            "text/plain": [
              "Text(0, 0.5, 'Frequency')"
            ]
          },
          "metadata": {},
          "execution_count": 141
        },
        {
          "output_type": "display_data",
          "data": {
            "text/plain": [
              "<Figure size 640x480 with 1 Axes>"
            ],
            "image/png": "[encoded data removed]"
          },
          "metadata": {}
        }
      ]
    },
    {
      "cell_type": "code",
      "source": [
        "hosts"
      ],
      "metadata": {
        "colab": {
          "base_uri": "https://localhost:8080/",
          "height": 475
        },
        "id": "4Ph4NmcS8zkZ",
        "outputId": "09de77d2-0188-4db9-aa5d-754520997574"
      },
      "execution_count": null,
      "outputs": [
        {
          "output_type": "execute_result",
          "data": {
            "text/plain": [
              "           z_NSA      ra_NSA    dec_NSA    M_r_NSA    M_g_NSA   mass_NSA  \\\n",
              "NSAID                                                                      \n",
              "350702  0.025517  217.606577  11.927973 -22.025835 -21.269285  10.984602   \n",
              "352469  0.029077  224.150682   9.369723 -22.206125 -21.470406  10.968457   \n",
              "522694  0.023125  176.550767  20.391653 -21.987951 -21.289984  10.962545   \n",
              "123564  0.025188  344.508086  13.134494 -21.964119 -21.223104  10.961491   \n",
              "402395  0.027054  123.936865  58.321011 -21.972540 -21.175783  10.959362   \n",
              "...          ...         ...        ...        ...        ...        ...   \n",
              "223240  0.028972  246.393312  40.787191 -17.915770 -15.755199   7.787176   \n",
              "325710  0.025637  184.642937  12.855764 -18.330580 -17.478563   5.079427   \n",
              "223226  0.029857  246.441544  39.609182  -8.395647  -9.839364   3.560767   \n",
              "208673  0.029200  214.976616  51.895050        inf        inf       -inf   \n",
              "17347   0.022561  173.538090  -1.595616        inf        inf       -inf   \n",
              "\n",
              "        SERSIC_N_NSA  SERSIC_BA_NSA  SERSIC_PHI_NSA  ELPETRO_BA_NSA  ...  \\\n",
              "NSAID                                                                ...   \n",
              "350702      5.257183       0.857721      120.447998        0.910484  ...   \n",
              "352469      6.000000       0.665823       84.467041        0.697892  ...   \n",
              "522694      6.000000       0.734939       12.358368        0.772986  ...   \n",
              "123564      6.000000       0.679418       45.890747        0.731137  ...   \n",
              "402395      3.853148       0.785757      100.288239        0.841223  ...   \n",
              "...              ...            ...             ...             ...  ...   \n",
              "223240      0.500000       1.000000      117.718842        0.880065  ...   \n",
              "325710      1.436873       0.306668      147.662933        0.469843  ...   \n",
              "223226      0.709980       0.205326      156.155151        0.183755  ...   \n",
              "208673      0.500000       0.502882       15.391083             NaN  ...   \n",
              "17347       0.500000       0.631206       62.208527             NaN  ...   \n",
              "\n",
              "          MJD  FIBERID   mass_GSE  mass_err_GSE  n_sats_in_300kpc  \\\n",
              "NSAID                                                               \n",
              "350702  53504      317  11.326582      0.086736                 3   \n",
              "352469  54212      193  11.212667      0.087128                 8   \n",
              "522694  54180      492  11.173956      0.081876                 5   \n",
              "123564  52261       12  11.232985      0.080872                 5   \n",
              "402395  54437      391  11.272670      0.085734                 1   \n",
              "...       ...      ...        ...           ...               ...   \n",
              "223240  52759      457   9.649350      0.094504                 0   \n",
              "325710  53120      356   9.752282      0.092904                 0   \n",
              "223226  52759      435  10.985835      0.086237                 3   \n",
              "208673  52725      489  10.048760      0.079997                 3   \n",
              "17347   52294      460  10.449144      0.095005                 1   \n",
              "\n",
              "        n_sats_in_150kpc  n_bright_sats_in_300kpc  N_unrelated_lowz  \\\n",
              "NSAID                                                                 \n",
              "350702                 2                        3          0.023889   \n",
              "352469                 3                        8          0.029606   \n",
              "522694                 2                        5          0.035396   \n",
              "123564                 2                        5          0.023366   \n",
              "402395                 0                        1          0.026347   \n",
              "...                  ...                      ...               ...   \n",
              "223240                 0                        0          0.029435   \n",
              "325710                 0                        0          0.024082   \n",
              "223226                 0                        3          0.030867   \n",
              "208673                 1                        2          0.029804   \n",
              "17347                  0                        1          0.039703   \n",
              "\n",
              "        n_corr_sats_in_300kpc  n_sat  \n",
              "NSAID                                 \n",
              "350702               4.785405      5  \n",
              "352469              13.155597     18  \n",
              "522694               8.067079     10  \n",
              "123564               8.114398      7  \n",
              "402395               1.470034      2  \n",
              "...                       ...    ...  \n",
              "223240              -0.178604      0  \n",
              "325710              -0.213055      0  \n",
              "223226               4.828380      0  \n",
              "208673               4.823271      0  \n",
              "17347                1.384739      0  \n",
              "\n",
              "[10408 rows x 21 columns]"
            ],
            "text/html": [
              "\n",
              "  <div id=\"df-a02bf2c4-6f6d-45f7-9cd2-6368a2dd9996\" class=\"colab-df-container\">\n",
              "    <div>\n",
              "<style scoped>\n",
              "    .dataframe tbody tr th:only-of-type {\n",
              "        vertical-align: middle;\n",
              "    }\n",
              "\n",
              "    .dataframe tbody tr th {\n",
              "        vertical-align: top;\n",
              "    }\n",
              "\n",
              "    .dataframe thead th {\n",
              "        text-align: right;\n",
              "    }\n",
              "</style>\n",
              "<table border=\"1\" class=\"dataframe\">\n",
              "  <thead>\n",
              "    <tr style=\"text-align: right;\">\n",
              "      <th></th>\n",
              "      <th>z_NSA</th>\n",
              "      <th>ra_NSA</th>\n",
              "      <th>dec_NSA</th>\n",
              "      <th>M_r_NSA</th>\n",
              "      <th>M_g_NSA</th>\n",
              "      <th>mass_NSA</th>\n",
              "      <th>SERSIC_N_NSA</th>\n",
              "      <th>SERSIC_BA_NSA</th>\n",
              "      <th>SERSIC_PHI_NSA</th>\n",
              "      <th>ELPETRO_BA_NSA</th>\n",
              "      <th>...</th>\n",
              "      <th>MJD</th>\n",
              "      <th>FIBERID</th>\n",
              "      <th>mass_GSE</th>\n",
              "      <th>mass_err_GSE</th>\n",
              "      <th>n_sats_in_300kpc</th>\n",
              "      <th>n_sats_in_150kpc</th>\n",
              "      <th>n_bright_sats_in_300kpc</th>\n",
              "      <th>N_unrelated_lowz</th>\n",
              "      <th>n_corr_sats_in_300kpc</th>\n",
              "      <th>n_sat</th>\n",
              "    </tr>\n",
              "    <tr>\n",
              "      <th>NSAID</th>\n",
              "      <th></th>\n",
              "      <th></th>\n",
              "      <th></th>\n",
              "      <th></th>\n",
              "      <th></th>\n",
              "      <th></th>\n",
              "      <th></th>\n",
              "      <th></th>\n",
              "      <th></th>\n",
              "      <th></th>\n",
              "      <th></th>\n",
              "      <th></th>\n",
              "      <th></th>\n",
              "      <th></th>\n",
              "      <th></th>\n",
              "      <th></th>\n",
              "      <th></th>\n",
              "      <th></th>\n",
              "      <th></th>\n",
              "      <th></th>\n",
              "      <th></th>\n",
              "    </tr>\n",
              "  </thead>\n",
              "  <tbody>\n",
              "    <tr>\n",
              "      <th>350702</th>\n",
              "      <td>0.025517</td>\n",
              "      <td>217.606577</td>\n",
              "      <td>11.927973</td>\n",
              "      <td>-22.025835</td>\n",
              "      <td>-21.269285</td>\n",
              "      <td>10.984602</td>\n",
              "      <td>5.257183</td>\n",
              "      <td>0.857721</td>\n",
              "      <td>120.447998</td>\n",
              "      <td>0.910484</td>\n",
              "      <td>...</td>\n",
              "      <td>53504</td>\n",
              "      <td>317</td>\n",
              "      <td>11.326582</td>\n",
              "      <td>0.086736</td>\n",
              "      <td>3</td>\n",
              "      <td>2</td>\n",
              "      <td>3</td>\n",
              "      <td>0.023889</td>\n",
              "      <td>4.785405</td>\n",
              "      <td>5</td>\n",
              "    </tr>\n",
              "    <tr>\n",
              "      <th>352469</th>\n",
              "      <td>0.029077</td>\n",
              "      <td>224.150682</td>\n",
              "      <td>9.369723</td>\n",
              "      <td>-22.206125</td>\n",
              "      <td>-21.470406</td>\n",
              "      <td>10.968457</td>\n",
              "      <td>6.000000</td>\n",
              "      <td>0.665823</td>\n",
              "      <td>84.467041</td>\n",
              "      <td>0.697892</td>\n",
              "      <td>...</td>\n",
              "      <td>54212</td>\n",
              "      <td>193</td>\n",
              "      <td>11.212667</td>\n",
              "      <td>0.087128</td>\n",
              "      <td>8</td>\n",
              "      <td>3</td>\n",
              "      <td>8</td>\n",
              "      <td>0.029606</td>\n",
              "      <td>13.155597</td>\n",
              "      <td>18</td>\n",
              "    </tr>\n",
              "    <tr>\n",
              "      <th>522694</th>\n",
              "      <td>0.023125</td>\n",
              "      <td>176.550767</td>\n",
              "      <td>20.391653</td>\n",
              "      <td>-21.987951</td>\n",
              "      <td>-21.289984</td>\n",
              "      <td>10.962545</td>\n",
              "      <td>6.000000</td>\n",
              "      <td>0.734939</td>\n",
              "      <td>12.358368</td>\n",
              "      <td>0.772986</td>\n",
              "      <td>...</td>\n",
              "      <td>54180</td>\n",
              "      <td>492</td>\n",
              "      <td>11.173956</td>\n",
              "      <td>0.081876</td>\n",
              "      <td>5</td>\n",
              "      <td>2</td>\n",
              "      <td>5</td>\n",
              "      <td>0.035396</td>\n",
              "      <td>8.067079</td>\n",
              "      <td>10</td>\n",
              "    </tr>\n",
              "    <tr>\n",
              "      <th>123564</th>\n",
              "      <td>0.025188</td>\n",
              "      <td>344.508086</td>\n",
              "      <td>13.134494</td>\n",
              "      <td>-21.964119</td>\n",
              "      <td>-21.223104</td>\n",
              "      <td>10.961491</td>\n",
              "      <td>6.000000</td>\n",
              "      <td>0.679418</td>\n",
              "      <td>45.890747</td>\n",
              "      <td>0.731137</td>\n",
              "      <td>...</td>\n",
              "      <td>52261</td>\n",
              "      <td>12</td>\n",
              "      <td>11.232985</td>\n",
              "      <td>0.080872</td>\n",
              "      <td>5</td>\n",
              "      <td>2</td>\n",
              "      <td>5</td>\n",
              "      <td>0.023366</td>\n",
              "      <td>8.114398</td>\n",
              "      <td>7</td>\n",
              "    </tr>\n",
              "    <tr>\n",
              "      <th>402395</th>\n",
              "      <td>0.027054</td>\n",
              "      <td>123.936865</td>\n",
              "      <td>58.321011</td>\n",
              "      <td>-21.972540</td>\n",
              "      <td>-21.175783</td>\n",
              "      <td>10.959362</td>\n",
              "      <td>3.853148</td>\n",
              "      <td>0.785757</td>\n",
              "      <td>100.288239</td>\n",
              "      <td>0.841223</td>\n",
              "      <td>...</td>\n",
              "      <td>54437</td>\n",
              "      <td>391</td>\n",
              "      <td>11.272670</td>\n",
              "      <td>0.085734</td>\n",
              "      <td>1</td>\n",
              "      <td>0</td>\n",
              "      <td>1</td>\n",
              "      <td>0.026347</td>\n",
              "      <td>1.470034</td>\n",
              "      <td>2</td>\n",
              "    </tr>\n",
              "    <tr>\n",
              "      <th>...</th>\n",
              "      <td>...</td>\n",
              "      <td>...</td>\n",
              "      <td>...</td>\n",
              "      <td>...</td>\n",
              "      <td>...</td>\n",
              "      <td>...</td>\n",
              "      <td>...</td>\n",
              "      <td>...</td>\n",
              "      <td>...</td>\n",
              "      <td>...</td>\n",
              "      <td>...</td>\n",
              "      <td>...</td>\n",
              "      <td>...</td>\n",
              "      <td>...</td>\n",
              "      <td>...</td>\n",
              "      <td>...</td>\n",
              "      <td>...</td>\n",
              "      <td>...</td>\n",
              "      <td>...</td>\n",
              "      <td>...</td>\n",
              "      <td>...</td>\n",
              "    </tr>\n",
              "    <tr>\n",
              "      <th>223240</th>\n",
              "      <td>0.028972</td>\n",
              "      <td>246.393312</td>\n",
              "      <td>40.787191</td>\n",
              "      <td>-17.915770</td>\n",
              "      <td>-15.755199</td>\n",
              "      <td>7.787176</td>\n",
              "      <td>0.500000</td>\n",
              "      <td>1.000000</td>\n",
              "      <td>117.718842</td>\n",
              "      <td>0.880065</td>\n",
              "      <td>...</td>\n",
              "      <td>52759</td>\n",
              "      <td>457</td>\n",
              "      <td>9.649350</td>\n",
              "      <td>0.094504</td>\n",
              "      <td>0</td>\n",
              "      <td>0</td>\n",
              "      <td>0</td>\n",
              "      <td>0.029435</td>\n",
              "      <td>-0.178604</td>\n",
              "      <td>0</td>\n",
              "    </tr>\n",
              "    <tr>\n",
              "      <th>325710</th>\n",
              "      <td>0.025637</td>\n",
              "      <td>184.642937</td>\n",
              "      <td>12.855764</td>\n",
              "      <td>-18.330580</td>\n",
              "      <td>-17.478563</td>\n",
              "      <td>5.079427</td>\n",
              "      <td>1.436873</td>\n",
              "      <td>0.306668</td>\n",
              "      <td>147.662933</td>\n",
              "      <td>0.469843</td>\n",
              "      <td>...</td>\n",
              "      <td>53120</td>\n",
              "      <td>356</td>\n",
              "      <td>9.752282</td>\n",
              "      <td>0.092904</td>\n",
              "      <td>0</td>\n",
              "      <td>0</td>\n",
              "      <td>0</td>\n",
              "      <td>0.024082</td>\n",
              "      <td>-0.213055</td>\n",
              "      <td>0</td>\n",
              "    </tr>\n",
              "    <tr>\n",
              "      <th>223226</th>\n",
              "      <td>0.029857</td>\n",
              "      <td>246.441544</td>\n",
              "      <td>39.609182</td>\n",
              "      <td>-8.395647</td>\n",
              "      <td>-9.839364</td>\n",
              "      <td>3.560767</td>\n",
              "      <td>0.709980</td>\n",
              "      <td>0.205326</td>\n",
              "      <td>156.155151</td>\n",
              "      <td>0.183755</td>\n",
              "      <td>...</td>\n",
              "      <td>52759</td>\n",
              "      <td>435</td>\n",
              "      <td>10.985835</td>\n",
              "      <td>0.086237</td>\n",
              "      <td>3</td>\n",
              "      <td>0</td>\n",
              "      <td>3</td>\n",
              "      <td>0.030867</td>\n",
              "      <td>4.828380</td>\n",
              "      <td>0</td>\n",
              "    </tr>\n",
              "    <tr>\n",
              "      <th>208673</th>\n",
              "      <td>0.029200</td>\n",
              "      <td>214.976616</td>\n",
              "      <td>51.895050</td>\n",
              "      <td>inf</td>\n",
              "      <td>inf</td>\n",
              "      <td>-inf</td>\n",
              "      <td>0.500000</td>\n",
              "      <td>0.502882</td>\n",
              "      <td>15.391083</td>\n",
              "      <td>NaN</td>\n",
              "      <td>...</td>\n",
              "      <td>52725</td>\n",
              "      <td>489</td>\n",
              "      <td>10.048760</td>\n",
              "      <td>0.079997</td>\n",
              "      <td>3</td>\n",
              "      <td>1</td>\n",
              "      <td>2</td>\n",
              "      <td>0.029804</td>\n",
              "      <td>4.823271</td>\n",
              "      <td>0</td>\n",
              "    </tr>\n",
              "    <tr>\n",
              "      <th>17347</th>\n",
              "      <td>0.022561</td>\n",
              "      <td>173.538090</td>\n",
              "      <td>-1.595616</td>\n",
              "      <td>inf</td>\n",
              "      <td>inf</td>\n",
              "      <td>-inf</td>\n",
              "      <td>0.500000</td>\n",
              "      <td>0.631206</td>\n",
              "      <td>62.208527</td>\n",
              "      <td>NaN</td>\n",
              "      <td>...</td>\n",
              "      <td>52294</td>\n",
              "      <td>460</td>\n",
              "      <td>10.449144</td>\n",
              "      <td>0.095005</td>\n",
              "      <td>1</td>\n",
              "      <td>0</td>\n",
              "      <td>1</td>\n",
              "      <td>0.039703</td>\n",
              "      <td>1.384739</td>\n",
              "      <td>0</td>\n",
              "    </tr>\n",
              "  </tbody>\n",
              "</table>\n",
              "<p>10408 rows × 21 columns</p>\n",
              "</div>\n",
              "    <div class=\"colab-df-buttons\">\n",
              "\n",
              "  <div class=\"colab-df-container\">\n",
              "    <button class=\"colab-df-convert\" onclick=\"convertToInteractive('df-a02bf2c4-6f6d-45f7-9cd2-6368a2dd9996')\"\n",
              "            title=\"Convert this dataframe to an interactive table.\"\n",
              "            style=\"display:none;\">\n",
              "\n",
              "  <svg xmlns=\"http://www.w3.org/2000/svg\" height=\"24px\" viewBox=\"0 -960 960 960\">\n",
              "    <path d=\"M120-120v-720h720v720H120Zm60-500h600v-160H180v160Zm220 220h160v-160H400v160Zm0 220h160v-160H400v160ZM180-400h160v-160H180v160Zm440 0h160v-160H620v160ZM180-180h160v-160H180v160Zm440 0h160v-160H620v160Z\"/>\n",
              "  </svg>\n",
              "    </button>\n",
              "\n",
              "  <style>\n",
              "    .colab-df-container {\n",
              "      display:flex;\n",
              "      gap: 12px;\n",
              "    }\n",
              "\n",
              "    .colab-df-convert {\n",
              "      background-color: #E8F0FE;\n",
              "      border: none;\n",
              "      border-radius: 50%;\n",
              "      cursor: pointer;\n",
              "      display: none;\n",
              "      fill: #1967D2;\n",
              "      height: 32px;\n",
              "      padding: 0 0 0 0;\n",
              "      width: 32px;\n",
              "    }\n",
              "\n",
              "    .colab-df-convert:hover {\n",
              "      background-color: #E2EBFA;\n",
              "      box-shadow: 0px 1px 2px rgba(60, 64, 67, 0.3), 0px 1px 3px 1px rgba(60, 64, 67, 0.15);\n",
              "      fill: #174EA6;\n",
              "    }\n",
              "\n",
              "    .colab-df-buttons div {\n",
              "      margin-bottom: 4px;\n",
              "    }\n",
              "\n",
              "    [theme=dark] .colab-df-convert {\n",
              "      background-color: #3B4455;\n",
              "      fill: #D2E3FC;\n",
              "    }\n",
              "\n",
              "    [theme=dark] .colab-df-convert:hover {\n",
              "      background-color: #434B5C;\n",
              "      box-shadow: 0px 1px 3px 1px rgba(0, 0, 0, 0.15);\n",
              "      filter: drop-shadow(0px 1px 2px rgba(0, 0, 0, 0.3));\n",
              "      fill: #FFFFFF;\n",
              "    }\n",
              "  </style>\n",
              "\n",
              "    <script>\n",
              "      const buttonEl =\n",
              "        document.querySelector('#df-a02bf2c4-6f6d-45f7-9cd2-6368a2dd9996 button.colab-df-convert');\n",
              "      buttonEl.style.display =\n",
              "        google.colab.kernel.accessAllowed ? 'block' : 'none';\n",
              "\n",
              "      async function convertToInteractive(key) {\n",
              "        const element = document.querySelector('#df-a02bf2c4-6f6d-45f7-9cd2-6368a2dd9996');\n",
              "        const dataTable =\n",
              "          await google.colab.kernel.invokeFunction('convertToInteractive',\n",
              "                                                    [key], {});\n",
              "        if (!dataTable) return;\n",
              "\n",
              "        const docLinkHtml = 'Like what you see? Visit the ' +\n",
              "          '<a target=\"_blank\" href=https://colab.research.google.com/notebooks/data_table.ipynb>data table notebook</a>'\n",
              "          + ' to learn more about interactive tables.';\n",
              "        element.innerHTML = '';\n",
              "        dataTable['output_type'] = 'display_data';\n",
              "        await google.colab.output.renderOutput(dataTable, element);\n",
              "        const docLink = document.createElement('div');\n",
              "        docLink.innerHTML = docLinkHtml;\n",
              "        element.appendChild(docLink);\n",
              "      }\n",
              "    </script>\n",
              "  </div>\n",
              "\n",
              "\n",
              "<div id=\"df-0e9c2fdd-b59c-47ca-966e-c0a90609ae08\">\n",
              "  <button class=\"colab-df-quickchart\" onclick=\"quickchart('df-0e9c2fdd-b59c-47ca-966e-c0a90609ae08')\"\n",
              "            title=\"Suggest charts\"\n",
              "            style=\"display:none;\">\n",
              "\n",
              "<svg xmlns=\"http://www.w3.org/2000/svg\" height=\"24px\"viewBox=\"0 0 24 24\"\n",
              "     width=\"24px\">\n",
              "    <g>\n",
              "        <path d=\"M19 3H5c-1.1 0-2 .9-2 2v14c0 1.1.9 2 2 2h14c1.1 0 2-.9 2-2V5c0-1.1-.9-2-2-2zM9 17H7v-7h2v7zm4 0h-2V7h2v10zm4 0h-2v-4h2v4z\"/>\n",
              "    </g>\n",
              "</svg>\n",
              "  </button>\n",
              "\n",
              "<style>\n",
              "  .colab-df-quickchart {\n",
              "      --bg-color: #E8F0FE;\n",
              "      --fill-color: #1967D2;\n",
              "      --hover-bg-color: #E2EBFA;\n",
              "      --hover-fill-color: #174EA6;\n",
              "      --disabled-fill-color: #AAA;\n",
              "      --disabled-bg-color: #DDD;\n",
              "  }\n",
              "\n",
              "  [theme=dark] .colab-df-quickchart {\n",
              "      --bg-color: #3B4455;\n",
              "      --fill-color: #D2E3FC;\n",
              "      --hover-bg-color: #434B5C;\n",
              "      --hover-fill-color: #FFFFFF;\n",
              "      --disabled-bg-color: #3B4455;\n",
              "      --disabled-fill-color: #666;\n",
              "  }\n",
              "\n",
              "  .colab-df-quickchart {\n",
              "    background-color: var(--bg-color);\n",
              "    border: none;\n",
              "    border-radius: 50%;\n",
              "    cursor: pointer;\n",
              "    display: none;\n",
              "    fill: var(--fill-color);\n",
              "    height: 32px;\n",
              "    padding: 0;\n",
              "    width: 32px;\n",
              "  }\n",
              "\n",
              "  .colab-df-quickchart:hover {\n",
              "    background-color: var(--hover-bg-color);\n",
              "    box-shadow: 0 1px 2px rgba(60, 64, 67, 0.3), 0 1px 3px 1px rgba(60, 64, 67, 0.15);\n",
              "    fill: var(--button-hover-fill-color);\n",
              "  }\n",
              "\n",
              "  .colab-df-quickchart-complete:disabled,\n",
              "  .colab-df-quickchart-complete:disabled:hover {\n",
              "    background-color: var(--disabled-bg-color);\n",
              "    fill: var(--disabled-fill-color);\n",
              "    box-shadow: none;\n",
              "  }\n",
              "\n",
              "  .colab-df-spinner {\n",
              "    border: 2px solid var(--fill-color);\n",
              "    border-color: transparent;\n",
              "    border-bottom-color: var(--fill-color);\n",
              "    animation:\n",
              "      spin 1s steps(1) infinite;\n",
              "  }\n",
              "\n",
              "  @keyframes spin {\n",
              "    0% {\n",
              "      border-color: transparent;\n",
              "      border-bottom-color: var(--fill-color);\n",
              "      border-left-color: var(--fill-color);\n",
              "    }\n",
              "    20% {\n",
              "      border-color: transparent;\n",
              "      border-left-color: var(--fill-color);\n",
              "      border-top-color: var(--fill-color);\n",
              "    }\n",
              "    30% {\n",
              "      border-color: transparent;\n",
              "      border-left-color: var(--fill-color);\n",
              "      border-top-color: var(--fill-color);\n",
              "      border-right-color: var(--fill-color);\n",
              "    }\n",
              "    40% {\n",
              "      border-color: transparent;\n",
              "      border-right-color: var(--fill-color);\n",
              "      border-top-color: var(--fill-color);\n",
              "    }\n",
              "    60% {\n",
              "      border-color: transparent;\n",
              "      border-right-color: var(--fill-color);\n",
              "    }\n",
              "    80% {\n",
              "      border-color: transparent;\n",
              "      border-right-color: var(--fill-color);\n",
              "      border-bottom-color: var(--fill-color);\n",
              "    }\n",
              "    90% {\n",
              "      border-color: transparent;\n",
              "      border-bottom-color: var(--fill-color);\n",
              "    }\n",
              "  }\n",
              "</style>\n",
              "\n",
              "  <script>\n",
              "    async function quickchart(key) {\n",
              "      const quickchartButtonEl =\n",
              "        document.querySelector('#' + key + ' button');\n",
              "      quickchartButtonEl.disabled = true;  // To prevent multiple clicks.\n",
              "      quickchartButtonEl.classList.add('colab-df-spinner');\n",
              "      try {\n",
              "        const charts = await google.colab.kernel.invokeFunction(\n",
              "            'suggestCharts', [key], {});\n",
              "      } catch (error) {\n",
              "        console.error('Error during call to suggestCharts:', error);\n",
              "      }\n",
              "      quickchartButtonEl.classList.remove('colab-df-spinner');\n",
              "      quickchartButtonEl.classList.add('colab-df-quickchart-complete');\n",
              "    }\n",
              "    (() => {\n",
              "      let quickchartButtonEl =\n",
              "        document.querySelector('#df-0e9c2fdd-b59c-47ca-966e-c0a90609ae08 button');\n",
              "      quickchartButtonEl.style.display =\n",
              "        google.colab.kernel.accessAllowed ? 'block' : 'none';\n",
              "    })();\n",
              "  </script>\n",
              "</div>\n",
              "    </div>\n",
              "  </div>\n"
            ],
            "application/vnd.google.colaboratory.intrinsic+json": {
              "type": "dataframe",
              "variable_name": "hosts"
            }
          },
          "metadata": {},
          "execution_count": 142
        }
      ]
    },
    {
      "cell_type": "code",
      "source": [
        "def absolute_to_apparent(M, z):\n",
        "  D_L = cosmo.luminosity_distance(0.6).value * 1e6\n",
        "  mu = 5 * np.log10(D_L) - 5\n",
        "  return M + mu"
      ],
      "metadata": {
        "id": "8ynIPnSXzF-N"
      },
      "execution_count": null,
      "outputs": []
    },
    {
      "cell_type": "code",
      "source": [
        "def g_r(Mr, Mg, z):\n",
        "  mr = absolute_to_apparent(Mr, z)\n",
        "  mg = absolute_to_apparent(Mg, z)\n",
        "  return mg - mr"
      ],
      "metadata": {
        "id": "Akr3bWlZzkbL"
      },
      "execution_count": null,
      "outputs": []
    },
    {
      "cell_type": "code",
      "source": [
        "g_r_color = []\n",
        "for i in range(0, len(hosts)):\n",
        "  val = hosts.iloc[i]\n",
        "  g_r_color.append(g_r(val['M_r_NSA'], val['M_g_NSA'], val['z_NSA']))"
      ],
      "metadata": {
        "colab": {
          "base_uri": "https://localhost:8080/"
        },
        "id": "obT9GwRo0GFA",
        "outputId": "2e3e752c-3569-4877-caf9-8de1dfb9f81a"
      },
      "execution_count": null,
      "outputs": [
        {
          "output_type": "stream",
          "name": "stderr",
          "text": [
            "<ipython-input-144-2081d618248b>:4: RuntimeWarning: invalid value encountered in scalar subtract\n",
            "  return mg - mr\n"
          ]
        }
      ]
    },
    {
      "cell_type": "code",
      "source": [
        "hosts['g-r'] = g_r_color"
      ],
      "metadata": {
        "id": "4NgRz-Fd0WrJ"
      },
      "execution_count": null,
      "outputs": []
    },
    {
      "cell_type": "code",
      "source": [
        "plt.hist(list(hosts['g-r']), range = (0, 1), bins = 50)"
      ],
      "metadata": {
        "colab": {
          "base_uri": "https://localhost:8080/",
          "height": 626
        },
        "id": "cKGmKeHw0wtQ",
        "outputId": "b6a26902-c547-4eec-db5c-a614155f0c45"
      },
      "execution_count": 239,
      "outputs": [
        {
          "output_type": "execute_result",
          "data": {
            "text/plain": [
              "(array([  1.,   0.,   0.,   0.,   0.,   0.,   1.,   0.,   0.,   2.,   3.,\n",
              "          4.,   4.,   9.,  16.,  27.,  48.,  69.,  97., 163., 215., 247.,\n",
              "        294., 354., 345., 377., 361., 381., 384., 365., 416., 471., 530.,\n",
              "        696., 820., 920., 913., 787., 536., 272., 121.,  70.,  32.,  12.,\n",
              "         13.,   2.,   5.,   2.,   2.,   0.]),\n",
              " array([0.  , 0.02, 0.04, 0.06, 0.08, 0.1 , 0.12, 0.14, 0.16, 0.18, 0.2 ,\n",
              "        0.22, 0.24, 0.26, 0.28, 0.3 , 0.32, 0.34, 0.36, 0.38, 0.4 , 0.42,\n",
              "        0.44, 0.46, 0.48, 0.5 , 0.52, 0.54, 0.56, 0.58, 0.6 , 0.62, 0.64,\n",
              "        0.66, 0.68, 0.7 , 0.72, 0.74, 0.76, 0.78, 0.8 , 0.82, 0.84, 0.86,\n",
              "        0.88, 0.9 , 0.92, 0.94, 0.96, 0.98, 1.  ]),\n",
              " <BarContainer object of 50 artists>)"
            ]
          },
          "metadata": {},
          "execution_count": 239
        },
        {
          "output_type": "display_data",
          "data": {
            "text/plain": [
              "<Figure size 640x480 with 1 Axes>"
            ],
            "image/png": "[encoded data removed]"
          },
          "metadata": {}
        }
      ]
    },
    {
      "cell_type": "code",
      "source": [
        "plt.hexbin(list(hosts['M_r_NSA']), list(hosts['g-r']))"
      ],
      "metadata": {
        "colab": {
          "base_uri": "https://localhost:8080/",
          "height": 448
        },
        "id": "ejnGCnJQWNzP",
        "outputId": "c71d22c1-d2bd-41b4-bde0-8927a0108d53"
      },
      "execution_count": 240,
      "outputs": [
        {
          "output_type": "execute_result",
          "data": {
            "text/plain": [
              "<matplotlib.collections.PolyCollection at 0x79f94225fca0>"
            ]
          },
          "metadata": {},
          "execution_count": 240
        },
        {
          "output_type": "display_data",
          "data": {
            "text/plain": [
              "<Figure size 640x480 with 1 Axes>"
            ],
            "image/png": "[encoded data removed]"
          },
          "metadata": {}
        }
      ]
    },
    {
      "cell_type": "code",
      "source": [
        "g_r_colors = np.array(list(hosts['g-r']))\n",
        "satellites = np.array(list(hosts['n_sat']))\n",
        "masses = np.array(list(hosts['mass_NSA']))\n",
        "indices = np.array([i for i in range(0, len(hosts))])\n",
        "mask = (g_r_colors >= 0) & (g_r_colors <= 1)\n",
        "filtered_satellites = satellites[mask]\n",
        "filtered_g_r_colors = g_r_colors[mask]\n",
        "filtered_masses = masses[mask]\n",
        "filtered_indices = indices[mask]"
      ],
      "metadata": {
        "id": "_IJaN1dS1ht2"
      },
      "execution_count": null,
      "outputs": []
    },
    {
      "cell_type": "code",
      "source": [
        "bins = np.linspace(0, 1, 6)\n",
        "digitized = np.digitize(filtered_g_r_colors, bins)\n",
        "average_satellites = [filtered_satellites[digitized == i].mean() if len(filtered_satellites[digitized == i]) > 0 else 0 for i in range(1, len(bins))]"
      ],
      "metadata": {
        "id": "bja9r2vu15p5"
      },
      "execution_count": null,
      "outputs": []
    },
    {
      "cell_type": "code",
      "source": [
        "quartiles = np.percentile(filtered_masses, [0, 25, 50, 75, 100])\n",
        "mass_ranges = [(quartiles[i], quartiles[i+1]) for i in range(len(quartiles)-1)]\n",
        "mass_labels = ['1st Quartile', '2nd Quartile', '3rd Quartile', '4th Quartile']\n",
        "colors = ['blue', 'green', 'red', 'orange']"
      ],
      "metadata": {
        "id": "TqaXQ37R4OZv"
      },
      "execution_count": null,
      "outputs": []
    },
    {
      "cell_type": "code",
      "source": [
        "fig, ax = plt.subplots()\n",
        "\n",
        "bar_width = 0.03\n",
        "offset = -1.5 * bar_width\n",
        "i = 0\n",
        "for mass_range, color, label in zip(mass_ranges, colors, mass_labels):\n",
        "    x = mass_range[0]\n",
        "    if(i == 0):\n",
        "      x = -np.inf\n",
        "      i += 1\n",
        "    mass_mask = (filtered_masses >= x) & (filtered_masses < mass_range[1])\n",
        "    filtered_satellites_mass = filtered_satellites[mass_mask]\n",
        "    filtered_g_r_colors_mass = filtered_g_r_colors[mass_mask]\n",
        "\n",
        "    digitized_mass = np.digitize(filtered_g_r_colors_mass, bins)\n",
        "    average_satellites_mass = [filtered_satellites_mass[digitized_mass == i].mean() if len(filtered_satellites_mass[digitized_mass == i]) > 0 else 0 for i in range(1, len(bins))]\n",
        "\n",
        "    bin_centers = (bins[:-1] + bins[1:]) / 2\n",
        "\n",
        "    ax.bar(bin_centers + offset, average_satellites_mass, width=bar_width, color=color, align='center', label=label)\n",
        "    offset += bar_width\n",
        "\n",
        "ax.set_xlabel('g-r Color Bins')\n",
        "ax.set_ylabel('Average Number of Satellites')\n",
        "ax.set_title('Average Number of Satellites vs. g-r Color')\n",
        "ax.legend(title='Mass Range')\n",
        "\n",
        "bin_labels = [f'{bins[i]:.2f}-{bins[i+1]:.2f}' for i in range(len(bins)-1)]\n",
        "ax.set_xticks(bin_centers)\n",
        "ax.set_xticklabels(bin_labels)\n",
        "\n",
        "plt.show()"
      ],
      "metadata": {
        "colab": {
          "base_uri": "https://localhost:8080/",
          "height": 472
        },
        "id": "5Slf0j5S3l2z",
        "outputId": "5ad2d800-acb3-49c9-a444-2a0f7e2204e3"
      },
      "execution_count": null,
      "outputs": [
        {
          "output_type": "display_data",
          "data": {
            "text/plain": [
              "<Figure size 640x480 with 1 Axes>"
            ],
            "image/png": "[encoded data removed]"
          },
          "metadata": {}
        }
      ]
    },
    {
      "cell_type": "code",
      "source": [
        "fig, ax = plt.subplots()\n",
        "\n",
        "bar_width = 0.03\n",
        "offset = -1.5 * bar_width\n",
        "i = 0\n",
        "markers = ['o', 's', '^', 'D']\n",
        "for idx, (mass_range, color, marker, label) in enumerate(zip(mass_ranges, colors, markers, mass_labels)):\n",
        "    x = mass_range[0]\n",
        "    if(i == 0):\n",
        "      x = -np.inf\n",
        "      i += 1\n",
        "    mass_mask = (filtered_masses >= x) & (filtered_masses < mass_range[1])\n",
        "    filtered_satellites_mass = filtered_satellites[mass_mask]\n",
        "    filtered_g_r_colors_mass = filtered_g_r_colors[mass_mask]\n",
        "\n",
        "    digitized_mass = np.digitize(filtered_g_r_colors_mass, bins)\n",
        "\n",
        "    avg_satellites_mass = []\n",
        "    std_satellites_mass = []\n",
        "    for i in range(1, len(bins)):\n",
        "        bin_values = filtered_satellites_mass[digitized_mass == i]\n",
        "        if len(bin_values) > 0:\n",
        "            avg_satellites_mass.append(bin_values.mean())\n",
        "            std_satellites_mass.append(bin_values.std())\n",
        "        else:\n",
        "            avg_satellites_mass.append(np.nan)\n",
        "            std_satellites_mass.append(np.nan)\n",
        "\n",
        "    bin_centers = (bins[:-1] + bins[1:]) / 2\n",
        "    bin_centers_offset = bin_centers + (idx - 1.5) * 0.02\n",
        "\n",
        "    ax.errorbar(bin_centers_offset, avg_satellites_mass, yerr=std_satellites_mass, fmt=marker, color=color, label=label, markersize=6, alpha=0.7)\n",
        "\n",
        "ax.set_xlabel('g-r Color Bins')\n",
        "ax.set_ylabel('Average Number of Satellites')\n",
        "ax.set_title('Average Number of Satellites vs. g-r Color')\n",
        "ax.legend(title='Mass Range')\n",
        "ax.set_ylim(bottom = 0)\n",
        "\n",
        "bin_labels = [f'{bins[i]:.2f}-{bins[i+1]:.2f}' for i in range(len(bins)-1)]\n",
        "ax.set_xticks(bin_centers)\n",
        "ax.set_xticklabels(bin_labels)\n",
        "\n",
        "plt.show()"
      ],
      "metadata": {
        "id": "RZHDOf6QBgIF",
        "colab": {
          "base_uri": "https://localhost:8080/",
          "height": 472
        },
        "outputId": "5f9a96cf-c7ef-4cf3-bf69-082ac94bf9d4"
      },
      "execution_count": 238,
      "outputs": [
        {
          "output_type": "display_data",
          "data": {
            "text/plain": [
              "<Figure size 640x480 with 1 Axes>"
            ],
            "image/png": "[encoded data removed]"
          },
          "metadata": {}
        }
      ]
    },
    {
      "cell_type": "code",
      "source": [
        "from astropy.io import fits\n",
        "gse = fits.getdata('/content/drive/MyDrive/galSpecExtra-dr8.fits')\n",
        "def byteorder(row):\n",
        "  return row.byteswap().newbyteorder()\n",
        "gse = pd.DataFrame(\n",
        "        {\n",
        "            \"PLATE\": byteorder(gse.PLATEID),\n",
        "            \"MJD\": byteorder(gse.MJD),\n",
        "            \"FIBERID\": byteorder(gse.FIBERID),\n",
        "            \"Metalicity\": byteorder(gse.OH_P50),\n",
        "            \"SFR\": byteorder(gse.SFR_TOT_P50),\n",
        "        }\n",
        ")"
      ],
      "metadata": {
        "id": "N_HU5-IV8utR"
      },
      "execution_count": null,
      "outputs": []
    },
    {
      "cell_type": "code",
      "source": [
        "gse"
      ],
      "metadata": {
        "colab": {
          "base_uri": "https://localhost:8080/",
          "height": 424
        },
        "id": "_HFnnd3P9pfN",
        "outputId": "8a372fc7-435e-49d2-894c-10cb55176799"
      },
      "execution_count": null,
      "outputs": [
        {
          "output_type": "execute_result",
          "data": {
            "text/plain": [
              "         PLATE    MJD  FIBERID  Metalicity          SFR\n",
              "0          266  51602        1     -9999.0    -0.520650\n",
              "1          266  51602        2     -9999.0    -0.349722\n",
              "2          266  51602        3     -9999.0 -9999.000000\n",
              "3          266  51602        4     -9999.0    -1.124918\n",
              "4          266  51602        5     -9999.0 -9999.000000\n",
              "...        ...    ...      ...         ...          ...\n",
              "1843195     -1     -1       -1         0.0     0.000000\n",
              "1843196     -1     -1       -1         0.0     0.000000\n",
              "1843197     -1     -1       -1         0.0     0.000000\n",
              "1843198     -1     -1       -1         0.0     0.000000\n",
              "1843199     -1     -1       -1         0.0     0.000000\n",
              "\n",
              "[1843200 rows x 5 columns]"
            ],
            "text/html": [
              "\n",
              "  <div id=\"df-f8cae358-a479-4095-bae4-7a696445d757\" class=\"colab-df-container\">\n",
              "    <div>\n",
              "<style scoped>\n",
              "    .dataframe tbody tr th:only-of-type {\n",
              "        vertical-align: middle;\n",
              "    }\n",
              "\n",
              "    .dataframe tbody tr th {\n",
              "        vertical-align: top;\n",
              "    }\n",
              "\n",
              "    .dataframe thead th {\n",
              "        text-align: right;\n",
              "    }\n",
              "</style>\n",
              "<table border=\"1\" class=\"dataframe\">\n",
              "  <thead>\n",
              "    <tr style=\"text-align: right;\">\n",
              "      <th></th>\n",
              "      <th>PLATE</th>\n",
              "      <th>MJD</th>\n",
              "      <th>FIBERID</th>\n",
              "      <th>Metalicity</th>\n",
              "      <th>SFR</th>\n",
              "    </tr>\n",
              "  </thead>\n",
              "  <tbody>\n",
              "    <tr>\n",
              "      <th>0</th>\n",
              "      <td>266</td>\n",
              "      <td>51602</td>\n",
              "      <td>1</td>\n",
              "      <td>-9999.0</td>\n",
              "      <td>-0.520650</td>\n",
              "    </tr>\n",
              "    <tr>\n",
              "      <th>1</th>\n",
              "      <td>266</td>\n",
              "      <td>51602</td>\n",
              "      <td>2</td>\n",
              "      <td>-9999.0</td>\n",
              "      <td>-0.349722</td>\n",
              "    </tr>\n",
              "    <tr>\n",
              "      <th>2</th>\n",
              "      <td>266</td>\n",
              "      <td>51602</td>\n",
              "      <td>3</td>\n",
              "      <td>-9999.0</td>\n",
              "      <td>-9999.000000</td>\n",
              "    </tr>\n",
              "    <tr>\n",
              "      <th>3</th>\n",
              "      <td>266</td>\n",
              "      <td>51602</td>\n",
              "      <td>4</td>\n",
              "      <td>-9999.0</td>\n",
              "      <td>-1.124918</td>\n",
              "    </tr>\n",
              "    <tr>\n",
              "      <th>4</th>\n",
              "      <td>266</td>\n",
              "      <td>51602</td>\n",
              "      <td>5</td>\n",
              "      <td>-9999.0</td>\n",
              "      <td>-9999.000000</td>\n",
              "    </tr>\n",
              "    <tr>\n",
              "      <th>...</th>\n",
              "      <td>...</td>\n",
              "      <td>...</td>\n",
              "      <td>...</td>\n",
              "      <td>...</td>\n",
              "      <td>...</td>\n",
              "    </tr>\n",
              "    <tr>\n",
              "      <th>1843195</th>\n",
              "      <td>-1</td>\n",
              "      <td>-1</td>\n",
              "      <td>-1</td>\n",
              "      <td>0.0</td>\n",
              "      <td>0.000000</td>\n",
              "    </tr>\n",
              "    <tr>\n",
              "      <th>1843196</th>\n",
              "      <td>-1</td>\n",
              "      <td>-1</td>\n",
              "      <td>-1</td>\n",
              "      <td>0.0</td>\n",
              "      <td>0.000000</td>\n",
              "    </tr>\n",
              "    <tr>\n",
              "      <th>1843197</th>\n",
              "      <td>-1</td>\n",
              "      <td>-1</td>\n",
              "      <td>-1</td>\n",
              "      <td>0.0</td>\n",
              "      <td>0.000000</td>\n",
              "    </tr>\n",
              "    <tr>\n",
              "      <th>1843198</th>\n",
              "      <td>-1</td>\n",
              "      <td>-1</td>\n",
              "      <td>-1</td>\n",
              "      <td>0.0</td>\n",
              "      <td>0.000000</td>\n",
              "    </tr>\n",
              "    <tr>\n",
              "      <th>1843199</th>\n",
              "      <td>-1</td>\n",
              "      <td>-1</td>\n",
              "      <td>-1</td>\n",
              "      <td>0.0</td>\n",
              "      <td>0.000000</td>\n",
              "    </tr>\n",
              "  </tbody>\n",
              "</table>\n",
              "<p>1843200 rows × 5 columns</p>\n",
              "</div>\n",
              "    <div class=\"colab-df-buttons\">\n",
              "\n",
              "  <div class=\"colab-df-container\">\n",
              "    <button class=\"colab-df-convert\" onclick=\"convertToInteractive('df-f8cae358-a479-4095-bae4-7a696445d757')\"\n",
              "            title=\"Convert this dataframe to an interactive table.\"\n",
              "            style=\"display:none;\">\n",
              "\n",
              "  <svg xmlns=\"http://www.w3.org/2000/svg\" height=\"24px\" viewBox=\"0 -960 960 960\">\n",
              "    <path d=\"M120-120v-720h720v720H120Zm60-500h600v-160H180v160Zm220 220h160v-160H400v160Zm0 220h160v-160H400v160ZM180-400h160v-160H180v160Zm440 0h160v-160H620v160ZM180-180h160v-160H180v160Zm440 0h160v-160H620v160Z\"/>\n",
              "  </svg>\n",
              "    </button>\n",
              "\n",
              "  <style>\n",
              "    .colab-df-container {\n",
              "      display:flex;\n",
              "      gap: 12px;\n",
              "    }\n",
              "\n",
              "    .colab-df-convert {\n",
              "      background-color: #E8F0FE;\n",
              "      border: none;\n",
              "      border-radius: 50%;\n",
              "      cursor: pointer;\n",
              "      display: none;\n",
              "      fill: #1967D2;\n",
              "      height: 32px;\n",
              "      padding: 0 0 0 0;\n",
              "      width: 32px;\n",
              "    }\n",
              "\n",
              "    .colab-df-convert:hover {\n",
              "      background-color: #E2EBFA;\n",
              "      box-shadow: 0px 1px 2px rgba(60, 64, 67, 0.3), 0px 1px 3px 1px rgba(60, 64, 67, 0.15);\n",
              "      fill: #174EA6;\n",
              "    }\n",
              "\n",
              "    .colab-df-buttons div {\n",
              "      margin-bottom: 4px;\n",
              "    }\n",
              "\n",
              "    [theme=dark] .colab-df-convert {\n",
              "      background-color: #3B4455;\n",
              "      fill: #D2E3FC;\n",
              "    }\n",
              "\n",
              "    [theme=dark] .colab-df-convert:hover {\n",
              "      background-color: #434B5C;\n",
              "      box-shadow: 0px 1px 3px 1px rgba(0, 0, 0, 0.15);\n",
              "      filter: drop-shadow(0px 1px 2px rgba(0, 0, 0, 0.3));\n",
              "      fill: #FFFFFF;\n",
              "    }\n",
              "  </style>\n",
              "\n",
              "    <script>\n",
              "      const buttonEl =\n",
              "        document.querySelector('#df-f8cae358-a479-4095-bae4-7a696445d757 button.colab-df-convert');\n",
              "      buttonEl.style.display =\n",
              "        google.colab.kernel.accessAllowed ? 'block' : 'none';\n",
              "\n",
              "      async function convertToInteractive(key) {\n",
              "        const element = document.querySelector('#df-f8cae358-a479-4095-bae4-7a696445d757');\n",
              "        const dataTable =\n",
              "          await google.colab.kernel.invokeFunction('convertToInteractive',\n",
              "                                                    [key], {});\n",
              "        if (!dataTable) return;\n",
              "\n",
              "        const docLinkHtml = 'Like what you see? Visit the ' +\n",
              "          '<a target=\"_blank\" href=https://colab.research.google.com/notebooks/data_table.ipynb>data table notebook</a>'\n",
              "          + ' to learn more about interactive tables.';\n",
              "        element.innerHTML = '';\n",
              "        dataTable['output_type'] = 'display_data';\n",
              "        await google.colab.output.renderOutput(dataTable, element);\n",
              "        const docLink = document.createElement('div');\n",
              "        docLink.innerHTML = docLinkHtml;\n",
              "        element.appendChild(docLink);\n",
              "      }\n",
              "    </script>\n",
              "  </div>\n",
              "\n",
              "\n",
              "<div id=\"df-729ab7c2-9cd8-4cab-9de8-168aed283802\">\n",
              "  <button class=\"colab-df-quickchart\" onclick=\"quickchart('df-729ab7c2-9cd8-4cab-9de8-168aed283802')\"\n",
              "            title=\"Suggest charts\"\n",
              "            style=\"display:none;\">\n",
              "\n",
              "<svg xmlns=\"http://www.w3.org/2000/svg\" height=\"24px\"viewBox=\"0 0 24 24\"\n",
              "     width=\"24px\">\n",
              "    <g>\n",
              "        <path d=\"M19 3H5c-1.1 0-2 .9-2 2v14c0 1.1.9 2 2 2h14c1.1 0 2-.9 2-2V5c0-1.1-.9-2-2-2zM9 17H7v-7h2v7zm4 0h-2V7h2v10zm4 0h-2v-4h2v4z\"/>\n",
              "    </g>\n",
              "</svg>\n",
              "  </button>\n",
              "\n",
              "<style>\n",
              "  .colab-df-quickchart {\n",
              "      --bg-color: #E8F0FE;\n",
              "      --fill-color: #1967D2;\n",
              "      --hover-bg-color: #E2EBFA;\n",
              "      --hover-fill-color: #174EA6;\n",
              "      --disabled-fill-color: #AAA;\n",
              "      --disabled-bg-color: #DDD;\n",
              "  }\n",
              "\n",
              "  [theme=dark] .colab-df-quickchart {\n",
              "      --bg-color: #3B4455;\n",
              "      --fill-color: #D2E3FC;\n",
              "      --hover-bg-color: #434B5C;\n",
              "      --hover-fill-color: #FFFFFF;\n",
              "      --disabled-bg-color: #3B4455;\n",
              "      --disabled-fill-color: #666;\n",
              "  }\n",
              "\n",
              "  .colab-df-quickchart {\n",
              "    background-color: var(--bg-color);\n",
              "    border: none;\n",
              "    border-radius: 50%;\n",
              "    cursor: pointer;\n",
              "    display: none;\n",
              "    fill: var(--fill-color);\n",
              "    height: 32px;\n",
              "    padding: 0;\n",
              "    width: 32px;\n",
              "  }\n",
              "\n",
              "  .colab-df-quickchart:hover {\n",
              "    background-color: var(--hover-bg-color);\n",
              "    box-shadow: 0 1px 2px rgba(60, 64, 67, 0.3), 0 1px 3px 1px rgba(60, 64, 67, 0.15);\n",
              "    fill: var(--button-hover-fill-color);\n",
              "  }\n",
              "\n",
              "  .colab-df-quickchart-complete:disabled,\n",
              "  .colab-df-quickchart-complete:disabled:hover {\n",
              "    background-color: var(--disabled-bg-color);\n",
              "    fill: var(--disabled-fill-color);\n",
              "    box-shadow: none;\n",
              "  }\n",
              "\n",
              "  .colab-df-spinner {\n",
              "    border: 2px solid var(--fill-color);\n",
              "    border-color: transparent;\n",
              "    border-bottom-color: var(--fill-color);\n",
              "    animation:\n",
              "      spin 1s steps(1) infinite;\n",
              "  }\n",
              "\n",
              "  @keyframes spin {\n",
              "    0% {\n",
              "      border-color: transparent;\n",
              "      border-bottom-color: var(--fill-color);\n",
              "      border-left-color: var(--fill-color);\n",
              "    }\n",
              "    20% {\n",
              "      border-color: transparent;\n",
              "      border-left-color: var(--fill-color);\n",
              "      border-top-color: var(--fill-color);\n",
              "    }\n",
              "    30% {\n",
              "      border-color: transparent;\n",
              "      border-left-color: var(--fill-color);\n",
              "      border-top-color: var(--fill-color);\n",
              "      border-right-color: var(--fill-color);\n",
              "    }\n",
              "    40% {\n",
              "      border-color: transparent;\n",
              "      border-right-color: var(--fill-color);\n",
              "      border-top-color: var(--fill-color);\n",
              "    }\n",
              "    60% {\n",
              "      border-color: transparent;\n",
              "      border-right-color: var(--fill-color);\n",
              "    }\n",
              "    80% {\n",
              "      border-color: transparent;\n",
              "      border-right-color: var(--fill-color);\n",
              "      border-bottom-color: var(--fill-color);\n",
              "    }\n",
              "    90% {\n",
              "      border-color: transparent;\n",
              "      border-bottom-color: var(--fill-color);\n",
              "    }\n",
              "  }\n",
              "</style>\n",
              "\n",
              "  <script>\n",
              "    async function quickchart(key) {\n",
              "      const quickchartButtonEl =\n",
              "        document.querySelector('#' + key + ' button');\n",
              "      quickchartButtonEl.disabled = true;  // To prevent multiple clicks.\n",
              "      quickchartButtonEl.classList.add('colab-df-spinner');\n",
              "      try {\n",
              "        const charts = await google.colab.kernel.invokeFunction(\n",
              "            'suggestCharts', [key], {});\n",
              "      } catch (error) {\n",
              "        console.error('Error during call to suggestCharts:', error);\n",
              "      }\n",
              "      quickchartButtonEl.classList.remove('colab-df-spinner');\n",
              "      quickchartButtonEl.classList.add('colab-df-quickchart-complete');\n",
              "    }\n",
              "    (() => {\n",
              "      let quickchartButtonEl =\n",
              "        document.querySelector('#df-729ab7c2-9cd8-4cab-9de8-168aed283802 button');\n",
              "      quickchartButtonEl.style.display =\n",
              "        google.colab.kernel.accessAllowed ? 'block' : 'none';\n",
              "    })();\n",
              "  </script>\n",
              "</div>\n",
              "    </div>\n",
              "  </div>\n"
            ],
            "application/vnd.google.colaboratory.intrinsic+json": {
              "type": "dataframe",
              "variable_name": "gse"
            }
          },
          "metadata": {},
          "execution_count": 153
        }
      ]
    },
    {
      "cell_type": "code",
      "source": [
        "join_columns = [\"PLATE\", \"MJD\", \"FIBERID\"]\n",
        "hosts_comb = hosts.join(gse.set_index(join_columns), on=join_columns, how=\"left\")"
      ],
      "metadata": {
        "id": "5X9E9qnp82gN"
      },
      "execution_count": null,
      "outputs": []
    },
    {
      "cell_type": "code",
      "source": [
        "hosts_comb['Metalicity']"
      ],
      "metadata": {
        "colab": {
          "base_uri": "https://localhost:8080/"
        },
        "id": "sd07VgxN_T-G",
        "outputId": "61ca6c76-9fa2-402a-c9d3-c32c5a5a6b37"
      },
      "execution_count": null,
      "outputs": [
        {
          "output_type": "execute_result",
          "data": {
            "text/plain": [
              "NSAID\n",
              "350702   -9999.000000\n",
              "352469   -9999.000000\n",
              "522694   -9999.000000\n",
              "123564   -9999.000000\n",
              "402395   -9999.000000\n",
              "             ...     \n",
              "223240   -9999.000000\n",
              "325710   -9999.000000\n",
              "223226   -9999.000000\n",
              "208673       9.029759\n",
              "17347    -9999.000000\n",
              "Name: Metalicity, Length: 10408, dtype: float32"
            ]
          },
          "metadata": {},
          "execution_count": 155
        }
      ]
    },
    {
      "cell_type": "code",
      "source": [
        "plt.hist(list(hosts_comb['Metalicity']), bins = 25, range = (8.0, 9.5))"
      ],
      "metadata": {
        "colab": {
          "base_uri": "https://localhost:8080/",
          "height": 555
        },
        "id": "qRvnTykK-b7P",
        "outputId": "1b4a3bd8-b2c0-4b40-b71e-930b2c93e5cf"
      },
      "execution_count": 241,
      "outputs": [
        {
          "output_type": "execute_result",
          "data": {
            "text/plain": [
              "(array([  0.,   0.,   0.,   1.,   1.,   0.,   3.,  12.,   5.,  34.,  44.,\n",
              "        119., 142., 291., 352., 507., 718., 527., 584., 235.,  47.,  20.,\n",
              "          1.,   2.,   0.]),\n",
              " array([8.  , 8.06, 8.12, 8.18, 8.24, 8.3 , 8.36, 8.42, 8.48, 8.54, 8.6 ,\n",
              "        8.66, 8.72, 8.78, 8.84, 8.9 , 8.96, 9.02, 9.08, 9.14, 9.2 , 9.26,\n",
              "        9.32, 9.38, 9.44, 9.5 ]),\n",
              " <BarContainer object of 25 artists>)"
            ]
          },
          "metadata": {},
          "execution_count": 241
        },
        {
          "output_type": "display_data",
          "data": {
            "text/plain": [
              "<Figure size 640x480 with 1 Axes>"
            ],
            "image/png": "[encoded data removed]"
          },
          "metadata": {}
        }
      ]
    },
    {
      "cell_type": "code",
      "source": [
        "metallicity = np.array(list(hosts_comb['Metalicity']))\n",
        "mask = (metallicity >= 8.5) & (metallicity <= 9.5)\n",
        "filtered_satellites_new = satellites[mask]\n",
        "filtered_metallicity = metallicity[mask]\n",
        "filtered_masses_new = masses[mask]"
      ],
      "metadata": {
        "id": "Btfs0PKWAQu5"
      },
      "execution_count": 225,
      "outputs": []
    },
    {
      "cell_type": "code",
      "source": [
        "bins = np.linspace(8.5, 9.5, 6)\n",
        "digitized = np.digitize(filtered_metallicity, bins)\n",
        "average_satellites = [filtered_satellites_new[digitized == i].mean() if len(filtered_satellites_new[digitized == i]) > 0 else 0 for i in range(1, len(bins))]"
      ],
      "metadata": {
        "id": "RnsMO-YjAoGZ"
      },
      "execution_count": 226,
      "outputs": []
    },
    {
      "cell_type": "code",
      "source": [
        "quartiles = np.percentile(filtered_masses_new, [0, 25, 50, 75, 100])\n",
        "mass_ranges = [(quartiles[i], quartiles[i+1]) for i in range(len(quartiles)-1)]\n",
        "mass_labels = ['1st Quartile', '2nd Quartile', '3rd Quartile', '4th Quartile']\n",
        "colors = ['blue', 'green', 'red', 'orange']"
      ],
      "metadata": {
        "colab": {
          "base_uri": "https://localhost:8080/"
        },
        "id": "8dQZVswU9dD7",
        "outputId": "78c99431-8e13-435c-d81c-6943e2092b45"
      },
      "execution_count": 227,
      "outputs": [
        {
          "output_type": "stream",
          "name": "stderr",
          "text": [
            "/usr/local/lib/python3.10/dist-packages/numpy/lib/function_base.py:4657: RuntimeWarning: invalid value encountered in multiply\n",
            "  lerp_interpolation = asanyarray(add(a, diff_b_a * t, out=out))\n"
          ]
        }
      ]
    },
    {
      "cell_type": "code",
      "source": [],
      "metadata": {
        "id": "jlH85JEKYZQU"
      },
      "execution_count": null,
      "outputs": []
    },
    {
      "cell_type": "code",
      "source": [
        "fig, ax = plt.subplots()\n",
        "\n",
        "bar_width = 0.04\n",
        "offset = -1.5 * bar_width\n",
        "i = 0\n",
        "for mass_range, color, label in zip(mass_ranges, colors, mass_labels):\n",
        "    x = mass_range[0]\n",
        "    if(i == 0):\n",
        "      x = -np.inf\n",
        "      i += 1\n",
        "    mass_mask = (filtered_masses_new >= x) & (filtered_masses_new < mass_range[1])\n",
        "    filtered_satellites_mass = filtered_satellites_new[mass_mask]\n",
        "    filtered_metallicity_mass = filtered_metallicity[mass_mask]\n",
        "\n",
        "    digitized_mass = np.digitize(filtered_metallicity_mass, bins)\n",
        "\n",
        "    average_satellites_mass = [filtered_satellites_mass[digitized_mass == i].mean() if len(filtered_satellites_mass[digitized_mass == i]) > 0 else 0 for i in range(1, len(bins))]\n",
        "\n",
        "    bin_centers = (bins[:-1] + bins[1:]) / 2\n",
        "\n",
        "    ax.bar(bin_centers + offset, average_satellites_mass, width=bar_width, color=color, align='center', label=label)\n",
        "    offset += bar_width\n",
        "\n",
        "ax.set_xlabel('Metallicity Bins')\n",
        "ax.set_ylabel('Average Number of Satellites')\n",
        "ax.set_title('Average Number of Satellites vs. Metallicity')\n",
        "ax.legend(title='Mass Range')\n",
        "\n",
        "bin_labels = [f'{bins[i]:.2f}-{bins[i+1]:.2f}' for i in range(len(bins)-1)]\n",
        "ax.set_xticks(bin_centers)\n",
        "ax.set_xticklabels(bin_labels)\n",
        "\n",
        "plt.show()"
      ],
      "metadata": {
        "colab": {
          "base_uri": "https://localhost:8080/",
          "height": 472
        },
        "id": "YOQx5J_LA9HD",
        "outputId": "f6dd805f-11c9-4ce9-f2cf-2180056e7bdd"
      },
      "execution_count": 228,
      "outputs": [
        {
          "output_type": "display_data",
          "data": {
            "text/plain": [
              "<Figure size 640x480 with 1 Axes>"
            ],
            "image/png": "[encoded data removed]"
          },
          "metadata": {}
        }
      ]
    },
    {
      "cell_type": "code",
      "source": [
        "fig, ax = plt.subplots()\n",
        "\n",
        "bar_width = 0.04\n",
        "offset = -1.5 * bar_width\n",
        "i = 0\n",
        "markers = ['o', 's', '^', 'D']\n",
        "for idx, (mass_range, color, marker, label) in enumerate(zip(mass_ranges, colors, markers, mass_labels)):\n",
        "    x = mass_range[0]\n",
        "    if(i == 0):\n",
        "      x = -np.inf\n",
        "      i += 1\n",
        "    mass_mask = (filtered_masses_new >= x) & (filtered_masses_new < mass_range[1])\n",
        "    filtered_satellites_mass = filtered_satellites_new[mass_mask]\n",
        "    filtered_metallicity_mass = filtered_metallicity[mass_mask]\n",
        "\n",
        "    digitized_mass = np.digitize(filtered_metallicity_mass, bins)\n",
        "\n",
        "    avg_satellites_mass = []\n",
        "    std_satellites_mass = []\n",
        "    for i in range(1, len(bins)):\n",
        "        bin_values = filtered_satellites_mass[digitized_mass == i]\n",
        "        if len(bin_values) > 0:\n",
        "            avg_satellites_mass.append(bin_values.mean())\n",
        "            std_satellites_mass.append(bin_values.std())\n",
        "        else:\n",
        "            avg_satellites_mass.append(np.nan)\n",
        "            std_satellites_mass.append(np.nan)\n",
        "\n",
        "    bin_centers = (bins[:-1] + bins[1:]) / 2\n",
        "    bin_centers_offset = bin_centers + (idx - 1.5) * 0.02\n",
        "\n",
        "    ax.errorbar(bin_centers_offset, avg_satellites_mass, yerr=std_satellites_mass, fmt=marker, color=color, label=label, markersize=6, alpha=0.7)\n",
        "\n",
        "ax.set_xlabel('Metallicity Bins')\n",
        "ax.set_ylabel('Average Number of Satellites')\n",
        "ax.set_title('Average Number of Satellites vs. Metallicity')\n",
        "ax.legend(title='Mass Range')\n",
        "ax.set_ylim(ymin=0)\n",
        "\n",
        "bin_labels = [f'{bins[i]:.2f}-{bins[i+1]:.2f}' for i in range(len(bins)-1)]\n",
        "ax.set_xticks(bin_centers)\n",
        "ax.set_xticklabels(bin_labels)\n",
        "\n",
        "plt.show()"
      ],
      "metadata": {
        "colab": {
          "base_uri": "https://localhost:8080/",
          "height": 472
        },
        "id": "APQ8GOxQOrMF",
        "outputId": "ca583ad1-d7c3-44db-90b3-3ce20659c207"
      },
      "execution_count": 231,
      "outputs": [
        {
          "output_type": "display_data",
          "data": {
            "text/plain": [
              "<Figure size 640x480 with 1 Axes>"
            ],
            "image/png": "[encoded data removed]"
          },
          "metadata": {}
        }
      ]
    },
    {
      "cell_type": "code",
      "source": [
        "plt.hist(list(hosts_comb['SFR']), bins = 10, range = (-3, 1.3))"
      ],
      "metadata": {
        "colab": {
          "base_uri": "https://localhost:8080/",
          "height": 519
        },
        "id": "y4-MZyIbCFAd",
        "outputId": "ece36afa-8f07-4a4b-a0eb-e8589f09673a"
      },
      "execution_count": 243,
      "outputs": [
        {
          "output_type": "execute_result",
          "data": {
            "text/plain": [
              "(array([   9.,  133., 1138., 2188., 1247., 1595., 2590., 1178.,  199.,\n",
              "          24.]),\n",
              " array([-3.  , -2.57, -2.14, -1.71, -1.28, -0.85, -0.42,  0.01,  0.44,\n",
              "         0.87,  1.3 ]),\n",
              " <BarContainer object of 10 artists>)"
            ]
          },
          "metadata": {},
          "execution_count": 243
        },
        {
          "output_type": "display_data",
          "data": {
            "text/plain": [
              "<Figure size 640x480 with 1 Axes>"
            ],
            "image/png": "[encoded data removed]"
          },
          "metadata": {}
        }
      ]
    },
    {
      "cell_type": "code",
      "source": [
        "sfr = np.array(list(hosts_comb['SFR']))\n",
        "mask = (sfr >= -3) & (sfr <= 1)\n",
        "filtered_satellites_sfr = satellites[mask]\n",
        "filtered_sfr = sfr[mask]\n",
        "filtered_masses_sfr = masses[mask]"
      ],
      "metadata": {
        "id": "isn-5R-VB_2r"
      },
      "execution_count": 244,
      "outputs": []
    },
    {
      "cell_type": "code",
      "source": [
        "bins = np.linspace(-3, 1, 6)\n",
        "digitized = np.digitize(filtered_sfr, bins)\n",
        "average_satellites = [filtered_satellites_sfr[digitized == i].mean() if len(filtered_satellites_sfr[digitized == i]) > 0 else 0 for i in range(1, len(bins))]"
      ],
      "metadata": {
        "id": "x06MSFBxCpaH"
      },
      "execution_count": 245,
      "outputs": []
    },
    {
      "cell_type": "code",
      "source": [
        "quartiles = np.percentile(filtered_masses_sfr, [0, 25, 50, 75, 100])\n",
        "mass_ranges = [(quartiles[i], quartiles[i+1]) for i in range(len(quartiles)-1)]\n",
        "mass_labels = ['1st Quartile', '2nd Quartile', '3rd Quartile', '4th Quartile']\n",
        "colors = ['blue', 'green', 'red', 'orange']"
      ],
      "metadata": {
        "id": "Wu2wFLfC9szS",
        "colab": {
          "base_uri": "https://localhost:8080/"
        },
        "outputId": "b99c65fb-0ecc-49f3-8898-89877c081da4"
      },
      "execution_count": 246,
      "outputs": [
        {
          "output_type": "stream",
          "name": "stderr",
          "text": [
            "/usr/local/lib/python3.10/dist-packages/numpy/lib/function_base.py:4655: RuntimeWarning: invalid value encountered in subtract\n",
            "  diff_b_a = subtract(b, a)\n"
          ]
        }
      ]
    },
    {
      "cell_type": "code",
      "source": [
        "fig, ax = plt.subplots()\n",
        "\n",
        "bar_width = 0.06\n",
        "offset = -1.5 * bar_width\n",
        "i = 0\n",
        "for mass_range, color, label in zip(mass_ranges, colors, mass_labels):\n",
        "    x = mass_range[0]\n",
        "    if(i == 0):\n",
        "      x = -np.inf\n",
        "      i += 1\n",
        "    mass_mask = (filtered_masses_sfr >= x) & (filtered_masses_sfr < mass_range[1])\n",
        "    filtered_satellites_mass = filtered_satellites_sfr[mass_mask]\n",
        "    filtered_sfr_mass = filtered_sfr[mass_mask]\n",
        "\n",
        "    digitized_mass = np.digitize(filtered_sfr_mass, bins)\n",
        "    average_satellites_mass = [filtered_satellites_mass[digitized_mass == i].mean() if len(filtered_satellites_mass[digitized_mass == i]) > 0 else 0 for i in range(1, len(bins))]\n",
        "\n",
        "    bin_centers = (bins[:-1] + bins[1:]) / 2\n",
        "\n",
        "    ax.bar(bin_centers + offset, average_satellites_mass, width=bar_width, color=color, align='center', label=label)\n",
        "    offset += bar_width\n",
        "\n",
        "ax.set_xlabel('SFR Bins')\n",
        "ax.set_ylabel('Average Number of Satellites')\n",
        "ax.set_title('Average Number of Satellites vs. SFR')\n",
        "ax.legend(title='Mass Range')\n",
        "\n",
        "bin_labels = [f'{bins[i]:.2f}-{bins[i+1]:.2f}' for i in range(len(bins)-1)]\n",
        "ax.set_xticks(bin_centers)\n",
        "ax.set_xticklabels(bin_labels)\n",
        "\n",
        "plt.show()"
      ],
      "metadata": {
        "colab": {
          "base_uri": "https://localhost:8080/",
          "height": 472
        },
        "id": "1KZpT3niDo-g",
        "outputId": "58b93fe4-b120-4e13-cd97-a0b3131a5bd8"
      },
      "execution_count": 248,
      "outputs": [
        {
          "output_type": "display_data",
          "data": {
            "text/plain": [
              "<Figure size 640x480 with 1 Axes>"
            ],
            "image/png": "[encoded data removed]"
          },
          "metadata": {}
        }
      ]
    },
    {
      "cell_type": "code",
      "source": [
        "fig, ax = plt.subplots()\n",
        "\n",
        "bar_width = 0.04\n",
        "offset = -1.5 * bar_width\n",
        "i = 0\n",
        "markers = ['o', 's', '^', 'D']\n",
        "for idx, (mass_range, color, marker, label) in enumerate(zip(mass_ranges, colors, markers, mass_labels)):\n",
        "    x = mass_range[0]\n",
        "    if(i == 0):\n",
        "      x = -np.inf\n",
        "      i += 1\n",
        "    mass_mask = (filtered_masses_sfr >= x) & (filtered_masses_sfr < mass_range[1])\n",
        "    filtered_satellites_mass = filtered_satellites_sfr[mass_mask]\n",
        "    filtered_sfr_mass = filtered_sfr[mass_mask]\n",
        "\n",
        "    digitized_mass = np.digitize(filtered_sfr_mass, bins)\n",
        "\n",
        "    avg_satellites_mass = []\n",
        "    std_satellites_mass = []\n",
        "    for i in range(1, len(bins)):\n",
        "        bin_values = filtered_satellites_mass[digitized_mass == i]\n",
        "        if len(bin_values) > 0:\n",
        "            avg_satellites_mass.append(bin_values.mean())\n",
        "            std_satellites_mass.append(bin_values.std())\n",
        "        else:\n",
        "            avg_satellites_mass.append(np.nan)\n",
        "            std_satellites_mass.append(np.nan)\n",
        "\n",
        "    bin_centers = (bins[:-1] + bins[1:]) / 2\n",
        "    bin_centers_offset = bin_centers + (idx - 1.5) * 0.02\n",
        "\n",
        "    ax.errorbar(bin_centers_offset, avg_satellites_mass, yerr=std_satellites_mass, fmt=marker, color=color, label=label, markersize=6, alpha=0.7)\n",
        "\n",
        "ax.set_xlabel('SFR Bins')\n",
        "ax.set_ylabel('Average Number of Satellites')\n",
        "ax.set_title('Average Number of Satellites vs. SFR')\n",
        "ax.legend(title='Mass Range')\n",
        "\n",
        "bin_labels = [f'{bins[i]:.2f}-{bins[i+1]:.2f}' for i in range(len(bins)-1)]\n",
        "ax.set_xticks(bin_centers)\n",
        "ax.set_xticklabels(bin_labels)\n",
        "ax.set_ylim(ymin=0)\n",
        "\n",
        "plt.show()"
      ],
      "metadata": {
        "colab": {
          "base_uri": "https://localhost:8080/",
          "height": 472
        },
        "id": "C_X0jgYHOv5w",
        "outputId": "25b71fc5-3092-4228-eea4-cfcb3e584fbd"
      },
      "execution_count": 249,
      "outputs": [
        {
          "output_type": "display_data",
          "data": {
            "text/plain": [
              "<Figure size 640x480 with 1 Axes>"
            ],
            "image/png": "[encoded data removed]"
          },
          "metadata": {}
        }
      ]
    }
  ]
}