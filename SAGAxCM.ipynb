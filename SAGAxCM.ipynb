{
  "nbformat": 4,
  "nbformat_minor": 0,
  "metadata": {
    "colab": {
      "provenance": [],
      "mount_file_id": "1Ftw0kRBLc1AnHFSxb5VZWEXIWr2PjcQk",
      "authorship_tag": "ABX9TyM2Kel6+bKl4rw9PlOdRc5j",
      "include_colab_link": true
    },
    "kernelspec": {
      "name": "python3",
      "display_name": "Python 3"
    },
    "language_info": {
      "name": "python"
    }
  },
  "cells": [
    {
      "cell_type": "markdown",
      "metadata": {
        "id": "view-in-github",
        "colab_type": "text"
      },
      "source": [
        "<a href=\"https://colab.research.google.com/github/harishk30/DwarfResearch/blob/main/SAGAxCM.ipynb\" target=\"_parent\"><img src=\"https://colab.research.google.com/assets/colab-badge.svg\" alt=\"Open In Colab\"/></a>"
      ]
    },
    {
      "cell_type": "code",
      "execution_count": 23,
      "metadata": {
        "id": "VOQ9Z1x-6I8l"
      },
      "outputs": [],
      "source": [
        "import pandas as pd\n",
        "import astropy.coordinates\n",
        "from astropy.coordinates import SkyCoord"
      ]
    },
    {
      "cell_type": "code",
      "source": [
        "saga_hosts = '/content/drive/MyDrive/SummerProject/xSAGA-hosts_2021-09-28.parquet'\n",
        "hosts = pd.read_parquet(saga_hosts, engine = 'auto')\n",
        "satellites = pd.read_csv('/content/drive/MyDrive/SummerProject/xSAGA-lowz_2021-08-30.csv')"
      ],
      "metadata": {
        "id": "2grVFF9i6RUd"
      },
      "execution_count": 30,
      "outputs": []
    },
    {
      "cell_type": "code",
      "source": [
        "hosts = hosts[hosts['mass_GSE'] < 11]\n",
        "satellite_coords = SkyCoord(satellites['ra'], satellites['dec'], unit = 'deg')\n",
        "host_coords = SkyCoord(hosts['ra_NSA'], hosts['dec_NSA'], unit = 'deg')\n",
        "seplim = ''"
      ],
      "metadata": {
        "id": "iiyo0tbu77Nw"
      },
      "execution_count": 31,
      "outputs": []
    },
    {
      "cell_type": "code",
      "source": [
        "host_vals, satellite_vals, angsep, _ = host_coords.search_around_sky(satellite_coords, seplim)"
      ],
      "metadata": {
        "id": "5uXAx5MCCgvT"
      },
      "execution_count": null,
      "outputs": []
    },
    {
      "cell_type": "code",
      "source": [
        "satellites['objID'][0]"
      ],
      "metadata": {
        "colab": {
          "base_uri": "https://localhost:8080/"
        },
        "id": "e5yTvSr9LZPT",
        "outputId": "d4d9ea9b-9359-4dc9-882a-57628f64cfaa"
      },
      "execution_count": 51,
      "outputs": [
        {
          "output_type": "execute_result",
          "data": {
            "text/plain": [
              "1237657189834948761"
            ]
          },
          "metadata": {},
          "execution_count": 51
        }
      ]
    },
    {
      "cell_type": "code",
      "source": [
        "pairs = {}\n",
        "for i in range(0, len(hosts)):\n",
        "  pairs.add[hosts.index[i]] = []\n",
        "for i in range(0, len(satellite_vals)):\n",
        "  for j in satellite_vals[i]:\n",
        "    if sep[j] > minSep: #check if seperation greater than minSep\n",
        "      pairs[hosts.index[i]].append(satellites['objID'][j])"
      ],
      "metadata": {
        "id": "mYEd3O88DoKp"
      },
      "execution_count": null,
      "outputs": []
    }
  ]
}