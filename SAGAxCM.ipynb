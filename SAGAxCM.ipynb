{
  "nbformat": 4,
  "nbformat_minor": 0,
  "metadata": {
    "colab": {
      "provenance": [],
      "mount_file_id": "1Ftw0kRBLc1AnHFSxb5VZWEXIWr2PjcQk",
      "authorship_tag": "ABX9TyO2ZzVvnlLjFL4ugxWK0ApQ",
      "include_colab_link": true
    },
    "kernelspec": {
      "name": "python3",
      "display_name": "Python 3"
    },
    "language_info": {
      "name": "python"
    }
  },
  "cells": [
    {
      "cell_type": "markdown",
      "metadata": {
        "id": "view-in-github",
        "colab_type": "text"
      },
      "source": [
        "<a href=\"https://colab.research.google.com/github/harishk30/DwarfResearch/blob/main/SAGAxCM.ipynb\" target=\"_parent\"><img src=\"https://colab.research.google.com/assets/colab-badge.svg\" alt=\"Open In Colab\"/></a>"
      ]
    },
    {
      "cell_type": "code",
      "source": [
        "pip install colossus"
      ],
      "metadata": {
        "colab": {
          "base_uri": "https://localhost:8080/"
        },
        "id": "K7cyVUToVwb9",
        "outputId": "1a57663b-053b-46b3-93db-6dd5d3b2487e"
      },
      "execution_count": 5,
      "outputs": [
        {
          "output_type": "stream",
          "name": "stdout",
          "text": [
            "Collecting colossus\n",
            "  Downloading colossus-1.3.5-py2.py3-none-any.whl (198 kB)\n",
            "\u001b[?25l     \u001b[90m━━━━━━━━━━━━━━━━━━━━━━━━━━━━━━━━━━━━━━━━\u001b[0m \u001b[32m0.0/198.8 kB\u001b[0m \u001b[31m?\u001b[0m eta \u001b[36m-:--:--\u001b[0m\r\u001b[2K     \u001b[91m━━━━━━━━━━━━━━━━━━━━━━━━━━━━━━━━━━━━━━━\u001b[0m\u001b[90m╺\u001b[0m \u001b[32m194.6/198.8 kB\u001b[0m \u001b[31m5.9 MB/s\u001b[0m eta \u001b[36m0:00:01\u001b[0m\r\u001b[2K     \u001b[90m━━━━━━━━━━━━━━━━━━━━━━━━━━━━━━━━━━━━━━━━\u001b[0m \u001b[32m198.8/198.8 kB\u001b[0m \u001b[31m4.8 MB/s\u001b[0m eta \u001b[36m0:00:00\u001b[0m\n",
            "\u001b[?25hInstalling collected packages: colossus\n",
            "Successfully installed colossus-1.3.5\n"
          ]
        }
      ]
    },
    {
      "cell_type": "code",
      "source": [
        "from colossus.halo import mass_so\n",
        "from colossus.halo import mass_defs\n",
        "from colossus.halo.concentration import concentration\n",
        "from colossus.halo import profile_nfw\n",
        "from colossus.halo import mass_adv\n",
        "from colossus.cosmology import cosmology"
      ],
      "metadata": {
        "id": "fkklaW2mWFAO"
      },
      "execution_count": 29,
      "outputs": []
    },
    {
      "cell_type": "code",
      "execution_count": 74,
      "metadata": {
        "id": "VOQ9Z1x-6I8l"
      },
      "outputs": [],
      "source": [
        "import pandas as pd\n",
        "import astropy.coordinates\n",
        "from astropy.coordinates import SkyCoord\n",
        "import numpy as np\n",
        "from astropy import units as u\n",
        "from astropy.cosmology import Planck15 as cosmo"
      ]
    },
    {
      "cell_type": "code",
      "source": [
        "from tqdm import tqdm"
      ],
      "metadata": {
        "id": "p59ru86X4iwH"
      },
      "execution_count": 111,
      "outputs": []
    },
    {
      "cell_type": "code",
      "source": [
        "cosmology.setCosmology('planck15')"
      ],
      "metadata": {
        "colab": {
          "base_uri": "https://localhost:8080/"
        },
        "id": "kB6NYDYlXu53",
        "outputId": "2c5e4be7-5e82-45e7-f276-cc2c8dca5aab"
      },
      "execution_count": 60,
      "outputs": [
        {
          "output_type": "execute_result",
          "data": {
            "text/plain": [
              "<colossus.cosmology.cosmology.Cosmology at 0x7eb782fa03d0>"
            ]
          },
          "metadata": {},
          "execution_count": 60
        }
      ]
    },
    {
      "cell_type": "code",
      "source": [
        "saga_hosts = '/content/drive/MyDrive/SummerProject/xSAGA-hosts_2021-09-28.parquet'\n",
        "hosts = pd.read_parquet(saga_hosts, engine = 'auto')\n",
        "satellites = pd.read_csv('/content/drive/MyDrive/SummerProject/xSAGA-lowz_2021-08-30.csv')"
      ],
      "metadata": {
        "id": "2grVFF9i6RUd"
      },
      "execution_count": 2,
      "outputs": []
    },
    {
      "cell_type": "code",
      "source": [
        "hosts = hosts[hosts['mass_GSE'] < 11]\n",
        "satellite_coords = SkyCoord(satellites['ra'], satellites['dec'], unit = 'deg')\n",
        "host_coords = SkyCoord(hosts['ra_NSA'], hosts['dec_NSA'], unit = 'deg')"
      ],
      "metadata": {
        "id": "iiyo0tbu77Nw"
      },
      "execution_count": null,
      "outputs": []
    },
    {
      "cell_type": "code",
      "source": [
        "UniverseMachine_params = {\n",
        "    \"alpha\": 1.957,\n",
        "    \"beta\": 0.474,\n",
        "    \"gamma\": -1.065,\n",
        "    \"delta\": 0.386,\n",
        "    \"epsilon\": -1.435,\n",
        "    \"M0\": 12.081,\n",
        "}\n",
        "\n",
        "def SHMR(M_halo, params):\n",
        "    \"\"\"Stellar Mass Halo Mass Relation from Behroozi+19. See Appendix J.\"\"\"\n",
        "\n",
        "    x = M_halo - params[\"M0\"]\n",
        "\n",
        "    return (\n",
        "        params[\"M0\"] + params[\"epsilon\"]\n",
        "        - np.log10(10**(-params[\"alpha\"]*x) + 10**(-params[\"beta\"]*x))\n",
        "        + 10**params[\"gamma\"]*np.exp(-0.5 * (x / params[\"delta\"])**2)\n",
        "    )"
      ],
      "metadata": {
        "id": "uMUZRWlqiXfR"
      },
      "execution_count": 30,
      "outputs": []
    },
    {
      "cell_type": "code",
      "source": [
        "halo_masses = np.arange(11, 15, 0.001)\n",
        "stellar_masses = SHMR(halo_masses, UniverseMachine_params)"
      ],
      "metadata": {
        "id": "6CjkbfkFiiKg"
      },
      "execution_count": 34,
      "outputs": []
    },
    {
      "cell_type": "code",
      "source": [
        "def virial_mass(sm):\n",
        "  return halo_masses[np.argmin((sm - stellar_masses)**2)]"
      ],
      "metadata": {
        "id": "sJNlhLYkXJeX"
      },
      "execution_count": 46,
      "outputs": []
    },
    {
      "cell_type": "code",
      "source": [
        "def virial_radius(sm, z):\n",
        "  vm = virial_mass(sm)\n",
        "  return mass_so.M_to_R(10 ** vm, z, 'vir')"
      ],
      "metadata": {
        "id": "IAZ9h4CNX7ke"
      },
      "execution_count": 50,
      "outputs": []
    },
    {
      "cell_type": "code",
      "source": [
        "def r_to_deg(r, z):\n",
        "  return (r * u.kpc / cosmo.kpc_proper_per_arcmin(z)).to(u.arcmin)"
      ],
      "metadata": {
        "id": "rFxGcHz3mbkK"
      },
      "execution_count": 72,
      "outputs": []
    },
    {
      "cell_type": "code",
      "source": [
        "pairs = {}\n",
        "for id, host_coord in enumerate(tqdm(host_coords)):\n",
        "  vr = virial_radius(hosts.iloc[id]['mass_NSA'], hosts.iloc[id]['z_NSA'])\n",
        "  va = r_to_deg(vr, hosts.iloc[id]['z_NSA'])\n",
        "  host_coord = SkyCoord(ra = [host_coords[id].ra], dec = [host_coords[id].dec])\n",
        "  host_idx, satellite_idx, angsep, _ = host_coord.search_around_sky(satellite_coords, va)\n",
        "  sep = (angsep * cosmo.kpc_proper_per_arcmin(hosts.iloc[id].z_NSA)).to(u.kpc)\n",
        "  pairs[hosts.index[id]] = []\n",
        "  for i, satellite_val in enumerate(host_idx):\n",
        "    if(sep[i] > 36 * u.kpc):\n",
        "      pairs[hosts.index[id]].append(satellites.iloc[satellite_val]['objID'])"
      ],
      "metadata": {
        "colab": {
          "base_uri": "https://localhost:8080/"
        },
        "id": "FGNTWvxKj55p",
        "outputId": "15ac455e-1b46-4124-c651-388997661f49"
      },
      "execution_count": null,
      "outputs": [
        {
          "output_type": "stream",
          "name": "stderr",
          "text": [
            "  4%|▍         | 544/12340 [02:20<51:01,  3.85it/s]"
          ]
        }
      ]
    }
  ]
}